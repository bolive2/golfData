{
 "cells": [
  {
   "cell_type": "code",
   "execution_count": 87,
   "id": "e81132c4",
   "metadata": {},
   "outputs": [],
   "source": [
    "from bs4 import BeautifulSoup\n",
    "import requests\n",
    "import re\n",
    "import pandas as pd\n",
    "import numpy as np\n",
    "import matplotlib as mpl\n",
    "import matplotlib.pyplot as plt\n",
    "import seaborn as sns"
   ]
  },
  {
   "cell_type": "code",
   "execution_count": 88,
   "id": "aeaf3555",
   "metadata": {},
   "outputs": [],
   "source": [
    "url = \"https://www.espn.com/golf/stats/player\""
   ]
  },
  {
   "cell_type": "code",
   "execution_count": 89,
   "id": "1e0f3a23",
   "metadata": {},
   "outputs": [
    {
     "data": {
      "text/plain": [
       "200"
      ]
     },
     "execution_count": 89,
     "metadata": {},
     "output_type": "execute_result"
    }
   ],
   "source": [
    "response = requests.get(url)\n",
    "response.status_code"
   ]
  },
  {
   "cell_type": "code",
   "execution_count": 90,
   "id": "38139594",
   "metadata": {},
   "outputs": [],
   "source": [
    "dfs = pd.read_html(url)"
   ]
  },
  {
   "cell_type": "code",
   "execution_count": 91,
   "id": "aa34e2c2",
   "metadata": {},
   "outputs": [
    {
     "data": {
      "text/plain": [
       "[    RK               Name  AGE\n",
       " 0    1  Scottie Scheffler   26\n",
       " 1    2           Jon Rahm   28\n",
       " 2    3           Max Homa   32\n",
       " 3    4      Kurt Kitayama   30\n",
       " 4    5       Rory McIlroy   33\n",
       " 5    6          Sam Burns   26\n",
       " 6    7     Tyrrell Hatton   31\n",
       " 7    8     Keegan Bradley   36\n",
       " 8    9          Jason Day   35\n",
       " 9   10    Patrick Cantlay   31\n",
       " 10  11           Tom Hoge   33\n",
       " 11  12    Collin Morikawa   26\n",
       " 12  13     Viktor Hovland   25\n",
       " 13  14         Tony Finau   33\n",
       " 14  15      Cameron Young   25\n",
       " 15  16        Nick Taylor   34\n",
       " 16  17    Sahith Theegala   25\n",
       " 17  18      Adam Svensson   29\n",
       " 18  19         Sungjae Im   25\n",
       " 19  20       Seamus Power   36\n",
       " 20  21      Rickie Fowler   34\n",
       " 21  22            Tom Kim   20\n",
       " 22  23        Justin Rose   42\n",
       " 23  24     Harris English   33\n",
       " 24  25         Chris Kirk   37\n",
       " 25  26       Taylor Moore   29\n",
       " 26  27   Mackenzie Hughes   32\n",
       " 27  28      Jordan Spieth   29\n",
       " 28  29         Si Woo Kim   27\n",
       " 29  30  Xander Schauffele   29\n",
       " 30  31       Brian Harman   36\n",
       " 31  32  Taylor Montgomery   28\n",
       " 32  33     Russell Henley   33\n",
       " 33  34      Andrew Putnam   34\n",
       " 34  35     Keith Mitchell   31\n",
       " 35  36      Justin Thomas   29\n",
       " 36  37      Wyndham Clark   29\n",
       " 37  38   Hideki Matsuyama   31\n",
       " 38  39     Denny McCarthy   30\n",
       " 39  40        Adam Schenk   31\n",
       " 40  41        Adam Hadwin   35\n",
       " 41  42       Brendon Todd   37\n",
       " 42  43       Thomas Detry   30\n",
       " 43  44         Justin Suh   25\n",
       " 44  45         J.J. Spaun   32\n",
       " 45  46      Danny Willett   35\n",
       " 46  47    David Lingmerth   35\n",
       " 47  48     Hayden Buckley   27\n",
       " 48  49        Sepp Straka   29\n",
       " 49  50        Matt Kuchar   44,\n",
       "        EARNINGS   CUP  EVNTS  RNDS  CUTS  TOP10  WINS  SCORE   DDIS  DACC  \\\n",
       " 0   $11,631,495  1770     10    36    10      7     2   68.1  308.7  63.3   \n",
       " 1   $10,048,540  2031      9    29     8      6     3   68.0  314.1  57.6   \n",
       " 2    $7,709,412  1787     10    36    10      6     2   68.8  301.7  62.2   \n",
       " 3    $5,693,388  1040     11    32     7      3     1   70.1  306.7  54.4   \n",
       " 4    $5,333,286  1010      6    18     5      3     1   69.8  326.6  52.0   \n",
       " 5    $5,300,541   953     11    33     8      4     1   70.0  308.7  57.3   \n",
       " 6    $4,541,394   618      7    24     8      3     0   69.4  304.7  64.2   \n",
       " 7    $4,429,524  1111     11    34     8      4     1   69.8  298.2  59.5   \n",
       " 8    $3,863,333   776     13    44    11      6     0   68.9  302.6  62.3   \n",
       " 9    $3,831,400   759      8    26     7      4     0   68.6  308.2  63.9   \n",
       " 10   $3,799,156   755     15    48    11      4     0   69.0  293.9  63.9   \n",
       " 11   $3,636,734   785     10    32     8      3     0   69.3  292.3  70.1   \n",
       " 12   $3,459,459   641     10    36    10      4     0   69.1  305.4  63.6   \n",
       " 13   $3,451,101   939     10    34     9      3     1   69.0  301.6  59.2   \n",
       " 14   $3,421,775   575      9    32     9      2     0   69.9  315.8  55.8   \n",
       " 15   $3,343,710   698     15    47    11      4     0   69.6  292.7  58.2   \n",
       " 16   $3,253,152   781     14    50    13      5     0   69.9  300.4  53.2   \n",
       " 17   $3,173,118   807     16    54    13      2     1   69.9  288.7  60.0   \n",
       " 18   $3,041,038   647     13    46    12      4     0   69.2  298.9  64.0   \n",
       " 19   $3,006,682   961     13    44    11      3     1   69.5  298.9  58.3   \n",
       " 20   $3,003,047   676     11    38    11      3     0   69.5  305.0  58.7   \n",
       " 21   $2,976,766   864     11    38    10      3     1   69.1  295.1  69.7   \n",
       " 22   $2,827,020   775     10    34     7      3     1   69.6  291.8  65.5   \n",
       " 23   $2,796,415   522     16    49    10      2     0   70.2  294.6  59.2   \n",
       " 24   $2,783,635   916     13    40    10      3     1   69.6  295.9  60.9   \n",
       " 25   $2,745,877   847     15    51    10      1     1   70.1  300.8  56.8   \n",
       " 26   $2,666,799   774     12    36     8      2     1   70.3  297.9  52.4   \n",
       " 27   $2,625,622   501     10    32     8      3     0   70.0  302.7  53.2   \n",
       " 28   $2,535,051   812     12    42    12      2     1   69.6  296.1  66.0   \n",
       " 29   $2,508,972   542      9    29     8      4     0   69.4  300.0  54.3   \n",
       " 30   $2,367,687   739     13    41     9      2     0   69.4  293.4  67.9   \n",
       " 31   $2,299,369   746     15    52    14      4     0   69.3  306.0  56.5   \n",
       " 32   $2,296,831   660     11    32     7      1     1   70.2  288.2  72.0   \n",
       " 33   $2,259,018   654     16    53    13      3     0   69.4  282.1  64.0   \n",
       " 34   $1,982,179   442     13    44    11      3     0   69.4  310.7  65.6   \n",
       " 35   $1,959,433   377      8    32     8      2     0   70.3  305.5  56.0   \n",
       " 36   $1,948,049   535     15    56    13      4     0   69.7  313.0  54.0   \n",
       " 37   $1,911,500   360     12    38    10      2     0   70.0  295.9  58.3   \n",
       " 38   $1,810,355   480     16    54    13      2     0   69.6  295.0  59.2   \n",
       " 39   $1,803,965   584     17    59    13      1     0   70.3  304.4  53.7   \n",
       " 40   $1,799,445   405     13    44    11      3     0   69.8  293.7  63.9   \n",
       " 41   $1,720,861   516     13    43     9      3     0   69.7  280.2  68.2   \n",
       " 42   $1,711,325   644     13    47    12      3     0   69.6  306.7  57.8   \n",
       " 43   $1,675,331   367     17    54    13      2     0   70.2  293.8  63.0   \n",
       " 44   $1,673,672   449     14    44    11      2     0   69.6  296.5  62.0   \n",
       " 45   $1,643,146   492     11    37     8      1     0   70.2  291.8  56.8   \n",
       " 46   $1,642,997   404     15    47     9      4     0   70.5  275.0  66.1   \n",
       " 47   $1,629,364   529     13    40     8      2     0   69.8  303.9  65.3   \n",
       " 48   $1,597,223   473     12    36     9      2     0   70.4  292.0  63.3   \n",
       " 49   $1,596,177   368     11    33     8      3     0   69.6  290.6  63.3   \n",
       " \n",
       "      GIR  PUTTS  SAND  BIRDS  \n",
       " 0   73.8  1.715  36.0  4.694  \n",
       " 1   72.8  1.674  54.3  5.207  \n",
       " 2   68.7  1.690  51.2  4.750  \n",
       " 3   67.4  1.755  61.4  4.031  \n",
       " 4   64.8  1.776  52.2  4.000  \n",
       " 5   63.5  1.719  51.2  4.242  \n",
       " 6   65.7  1.708  44.7  4.250  \n",
       " 7   67.8  1.723  35.9  4.206  \n",
       " 8   69.8  1.727  58.6  4.341  \n",
       " 9   71.8  1.708  41.9  5.154  \n",
       " 10  70.4  1.694  50.0  4.583  \n",
       " 11  71.4  1.754  54.1  4.375  \n",
       " 12  67.7  1.724  57.9  4.528  \n",
       " 13  70.6  1.697  56.8  4.882  \n",
       " 14  68.6  1.739  40.0  4.750  \n",
       " 15  66.2  1.707  51.8  4.213  \n",
       " 16  67.8  1.707  60.0  4.300  \n",
       " 17  66.6  1.782  53.8  3.685  \n",
       " 18  68.0  1.744  71.4  4.326  \n",
       " 19  67.4  1.702  53.1  4.386  \n",
       " 20  69.3  1.709  43.8  4.421  \n",
       " 21  70.5  1.737  55.8  4.158  \n",
       " 22  68.0  1.728  66.7  4.059  \n",
       " 23  64.1  1.756  43.8  3.714  \n",
       " 24  67.9  1.689  60.0  4.200  \n",
       " 25  66.0  1.789  49.4  3.627  \n",
       " 26  64.8  1.752  40.9  3.750  \n",
       " 27  67.0  1.736  61.0  4.125  \n",
       " 28  68.5  1.736  61.5  4.000  \n",
       " 29  68.0  1.715  57.1  4.103  \n",
       " 30  69.5  1.756  61.5  3.976  \n",
       " 31  63.6  1.647  53.3  4.500  \n",
       " 32  68.4  1.759  47.1  4.031  \n",
       " 33  68.6  1.754  63.4  3.792  \n",
       " 34  67.3  1.715  56.4  4.273  \n",
       " 35  65.1  1.749  62.0  4.313  \n",
       " 36  67.9  1.734  52.8  4.036  \n",
       " 37  64.5  1.741  59.6  4.053  \n",
       " 38  66.5  1.737  53.0  3.944  \n",
       " 39  66.1  1.806  49.0  3.610  \n",
       " 40  67.7  1.729  51.5  4.000  \n",
       " 41  66.1  1.715  60.3  4.163  \n",
       " 42  66.0  1.728  60.3  4.277  \n",
       " 43  67.2  1.740  44.6  4.056  \n",
       " 44  69.6  1.770  63.8  3.841  \n",
       " 45  63.5  1.738  59.3  3.676  \n",
       " 46  63.6  1.714  56.0  4.043  \n",
       " 47  70.8  1.761  43.3  3.575  \n",
       " 48  70.2  1.767  42.9  3.667  \n",
       " 49  67.0  1.774  76.9  3.697  ]"
      ]
     },
     "execution_count": 91,
     "metadata": {},
     "output_type": "execute_result"
    }
   ],
   "source": [
    "dfs"
   ]
  },
  {
   "cell_type": "code",
   "execution_count": 92,
   "id": "f48d6f98",
   "metadata": {},
   "outputs": [],
   "source": [
    "age = dfs[0]"
   ]
  },
  {
   "cell_type": "code",
   "execution_count": 93,
   "id": "4d1da765",
   "metadata": {},
   "outputs": [],
   "source": [
    "stats = dfs[1]"
   ]
  },
  {
   "cell_type": "code",
   "execution_count": 94,
   "id": "41b39646",
   "metadata": {},
   "outputs": [],
   "source": [
    "url2 = 'https://www.espn.com/golf/rankings'"
   ]
  },
  {
   "cell_type": "code",
   "execution_count": 95,
   "id": "4ecf92a5",
   "metadata": {},
   "outputs": [],
   "source": [
    "dfs2 = pd.read_html(url2)"
   ]
  },
  {
   "cell_type": "code",
   "execution_count": 96,
   "id": "e6503278",
   "metadata": {},
   "outputs": [],
   "source": [
    "rank = dfs2[0]"
   ]
  },
  {
   "cell_type": "code",
   "execution_count": 97,
   "id": "c4c7d6d9",
   "metadata": {},
   "outputs": [
    {
     "name": "stdout",
     "output_type": "stream",
     "text": [
      "<class 'pandas.core.frame.DataFrame'>\n",
      "RangeIndex: 50 entries, 0 to 49\n",
      "Data columns (total 3 columns):\n",
      " #   Column  Non-Null Count  Dtype \n",
      "---  ------  --------------  ----- \n",
      " 0   RK      50 non-null     int64 \n",
      " 1   Name    50 non-null     object\n",
      " 2   AGE     50 non-null     int64 \n",
      "dtypes: int64(2), object(1)\n",
      "memory usage: 1.3+ KB\n"
     ]
    }
   ],
   "source": [
    "age.info()"
   ]
  },
  {
   "cell_type": "code",
   "execution_count": 98,
   "id": "74c96028",
   "metadata": {},
   "outputs": [
    {
     "name": "stdout",
     "output_type": "stream",
     "text": [
      "<class 'pandas.core.frame.DataFrame'>\n",
      "RangeIndex: 50 entries, 0 to 49\n",
      "Data columns (total 14 columns):\n",
      " #   Column    Non-Null Count  Dtype  \n",
      "---  ------    --------------  -----  \n",
      " 0   EARNINGS  50 non-null     object \n",
      " 1   CUP       50 non-null     int64  \n",
      " 2   EVNTS     50 non-null     int64  \n",
      " 3   RNDS      50 non-null     int64  \n",
      " 4   CUTS      50 non-null     int64  \n",
      " 5   TOP10     50 non-null     int64  \n",
      " 6   WINS      50 non-null     int64  \n",
      " 7   SCORE     50 non-null     float64\n",
      " 8   DDIS      50 non-null     float64\n",
      " 9   DACC      50 non-null     float64\n",
      " 10  GIR       50 non-null     float64\n",
      " 11  PUTTS     50 non-null     float64\n",
      " 12  SAND      50 non-null     float64\n",
      " 13  BIRDS     50 non-null     float64\n",
      "dtypes: float64(7), int64(6), object(1)\n",
      "memory usage: 5.6+ KB\n"
     ]
    }
   ],
   "source": [
    "stats.info()"
   ]
  },
  {
   "cell_type": "code",
   "execution_count": 99,
   "id": "330a46be",
   "metadata": {},
   "outputs": [
    {
     "data": {
      "text/html": [
       "<div>\n",
       "<style scoped>\n",
       "    .dataframe tbody tr th:only-of-type {\n",
       "        vertical-align: middle;\n",
       "    }\n",
       "\n",
       "    .dataframe tbody tr th {\n",
       "        vertical-align: top;\n",
       "    }\n",
       "\n",
       "    .dataframe thead th {\n",
       "        text-align: right;\n",
       "    }\n",
       "</style>\n",
       "<table border=\"1\" class=\"dataframe\">\n",
       "  <thead>\n",
       "    <tr style=\"text-align: right;\">\n",
       "      <th></th>\n",
       "      <th>RK</th>\n",
       "      <th>NAME</th>\n",
       "    </tr>\n",
       "  </thead>\n",
       "  <tbody>\n",
       "    <tr>\n",
       "      <th>0</th>\n",
       "      <td>1</td>\n",
       "      <td>Scottie Scheffler</td>\n",
       "    </tr>\n",
       "    <tr>\n",
       "      <th>1</th>\n",
       "      <td>2</td>\n",
       "      <td>Rory McIlroy</td>\n",
       "    </tr>\n",
       "    <tr>\n",
       "      <th>2</th>\n",
       "      <td>3</td>\n",
       "      <td>Jon Rahm</td>\n",
       "    </tr>\n",
       "    <tr>\n",
       "      <th>3</th>\n",
       "      <td>4</td>\n",
       "      <td>Patrick Cantlay</td>\n",
       "    </tr>\n",
       "    <tr>\n",
       "      <th>4</th>\n",
       "      <td>5</td>\n",
       "      <td>Cameron Smith</td>\n",
       "    </tr>\n",
       "    <tr>\n",
       "      <th>...</th>\n",
       "      <td>...</td>\n",
       "      <td>...</td>\n",
       "    </tr>\n",
       "    <tr>\n",
       "      <th>195</th>\n",
       "      <td>196</td>\n",
       "      <td>Lanto Griffin</td>\n",
       "    </tr>\n",
       "    <tr>\n",
       "      <th>196</th>\n",
       "      <td>197</td>\n",
       "      <td>Chan Kim</td>\n",
       "    </tr>\n",
       "    <tr>\n",
       "      <th>197</th>\n",
       "      <td>198</td>\n",
       "      <td>Laurie Canter</td>\n",
       "    </tr>\n",
       "    <tr>\n",
       "      <th>198</th>\n",
       "      <td>199</td>\n",
       "      <td>Connor Syme</td>\n",
       "    </tr>\n",
       "    <tr>\n",
       "      <th>199</th>\n",
       "      <td>200</td>\n",
       "      <td>Austin Eckroat</td>\n",
       "    </tr>\n",
       "  </tbody>\n",
       "</table>\n",
       "<p>200 rows × 2 columns</p>\n",
       "</div>"
      ],
      "text/plain": [
       "      RK               NAME\n",
       "0      1  Scottie Scheffler\n",
       "1      2       Rory McIlroy\n",
       "2      3           Jon Rahm\n",
       "3      4    Patrick Cantlay\n",
       "4      5      Cameron Smith\n",
       "..   ...                ...\n",
       "195  196      Lanto Griffin\n",
       "196  197           Chan Kim\n",
       "197  198      Laurie Canter\n",
       "198  199        Connor Syme\n",
       "199  200     Austin Eckroat\n",
       "\n",
       "[200 rows x 2 columns]"
      ]
     },
     "execution_count": 99,
     "metadata": {},
     "output_type": "execute_result"
    }
   ],
   "source": [
    "rank"
   ]
  },
  {
   "cell_type": "code",
   "execution_count": 100,
   "id": "764d66b7",
   "metadata": {},
   "outputs": [],
   "source": [
    "age = age.drop(['RK'],axis=1)"
   ]
  },
  {
   "cell_type": "code",
   "execution_count": 101,
   "id": "6b413c9d",
   "metadata": {},
   "outputs": [],
   "source": [
    "twoofthree = age.join(stats)"
   ]
  },
  {
   "cell_type": "code",
   "execution_count": 102,
   "id": "c61a20b9",
   "metadata": {},
   "outputs": [],
   "source": [
    "rank = rank.rename(columns={'NAME': 'Name'})"
   ]
  },
  {
   "cell_type": "code",
   "execution_count": 103,
   "id": "41746be4",
   "metadata": {},
   "outputs": [],
   "source": [
    "fin = twoofthree.merge(rank)"
   ]
  },
  {
   "cell_type": "code",
   "execution_count": 104,
   "id": "6a097e62",
   "metadata": {},
   "outputs": [
    {
     "name": "stdout",
     "output_type": "stream",
     "text": [
      "<class 'pandas.core.frame.DataFrame'>\n",
      "Int64Index: 50 entries, 0 to 49\n",
      "Data columns (total 17 columns):\n",
      " #   Column    Non-Null Count  Dtype  \n",
      "---  ------    --------------  -----  \n",
      " 0   Name      50 non-null     object \n",
      " 1   AGE       50 non-null     int64  \n",
      " 2   EARNINGS  50 non-null     object \n",
      " 3   CUP       50 non-null     int64  \n",
      " 4   EVNTS     50 non-null     int64  \n",
      " 5   RNDS      50 non-null     int64  \n",
      " 6   CUTS      50 non-null     int64  \n",
      " 7   TOP10     50 non-null     int64  \n",
      " 8   WINS      50 non-null     int64  \n",
      " 9   SCORE     50 non-null     float64\n",
      " 10  DDIS      50 non-null     float64\n",
      " 11  DACC      50 non-null     float64\n",
      " 12  GIR       50 non-null     float64\n",
      " 13  PUTTS     50 non-null     float64\n",
      " 14  SAND      50 non-null     float64\n",
      " 15  BIRDS     50 non-null     float64\n",
      " 16  RK        50 non-null     int64  \n",
      "dtypes: float64(7), int64(8), object(2)\n",
      "memory usage: 7.0+ KB\n"
     ]
    }
   ],
   "source": [
    "fin.info()"
   ]
  },
  {
   "cell_type": "code",
   "execution_count": 105,
   "id": "88988c8d",
   "metadata": {},
   "outputs": [],
   "source": [
    "url3 = 'https://www.espn.com/golf/stats/player/_/table/general/sort/amount/dir/asc'"
   ]
  },
  {
   "cell_type": "code",
   "execution_count": 106,
   "id": "23569596",
   "metadata": {},
   "outputs": [],
   "source": [
    "dfs3 = pd.read_html(url3)"
   ]
  },
  {
   "cell_type": "code",
   "execution_count": 107,
   "id": "9eb2a077",
   "metadata": {},
   "outputs": [],
   "source": [
    "age2 = dfs3[0]"
   ]
  },
  {
   "cell_type": "code",
   "execution_count": 108,
   "id": "6d615e71",
   "metadata": {},
   "outputs": [],
   "source": [
    "age2 = age2.drop(['RK'],axis=1)"
   ]
  },
  {
   "cell_type": "code",
   "execution_count": 109,
   "id": "53e7fb75",
   "metadata": {},
   "outputs": [],
   "source": [
    "stat2 = dfs3[1]"
   ]
  },
  {
   "cell_type": "code",
   "execution_count": 110,
   "id": "385e7b60",
   "metadata": {},
   "outputs": [],
   "source": [
    "df2 = age2.join(stat2)"
   ]
  },
  {
   "cell_type": "code",
   "execution_count": 111,
   "id": "a58f9aee",
   "metadata": {},
   "outputs": [],
   "source": [
    "bottomandTop = pd.concat([twoofthree,df2])"
   ]
  },
  {
   "cell_type": "code",
   "execution_count": 112,
   "id": "efcca7c2",
   "metadata": {},
   "outputs": [],
   "source": [
    "url4 = 'https://www.espn.com/golf/stats/player/_/table/general/sort/topTenFinishes/dir/asc'"
   ]
  },
  {
   "cell_type": "code",
   "execution_count": 113,
   "id": "98a28208",
   "metadata": {},
   "outputs": [],
   "source": [
    "dfs4 = pd.read_html(url4)"
   ]
  },
  {
   "cell_type": "code",
   "execution_count": 114,
   "id": "c9fad441",
   "metadata": {},
   "outputs": [],
   "source": [
    "age3 = dfs4[0]"
   ]
  },
  {
   "cell_type": "code",
   "execution_count": 115,
   "id": "bad184b8",
   "metadata": {},
   "outputs": [],
   "source": [
    "age3 = age3.drop(['RK'],axis=1)"
   ]
  },
  {
   "cell_type": "code",
   "execution_count": 116,
   "id": "57569713",
   "metadata": {},
   "outputs": [],
   "source": [
    "stat3 = dfs4[1]"
   ]
  },
  {
   "cell_type": "code",
   "execution_count": 117,
   "id": "8c26b690",
   "metadata": {},
   "outputs": [],
   "source": [
    "df3 = age3.join(stat3)"
   ]
  },
  {
   "cell_type": "code",
   "execution_count": 118,
   "id": "f4ab84de",
   "metadata": {},
   "outputs": [],
   "source": [
    "middle = pd.concat([bottomandTop,df3])"
   ]
  },
  {
   "cell_type": "code",
   "execution_count": 119,
   "id": "5d098443",
   "metadata": {},
   "outputs": [
    {
     "name": "stdout",
     "output_type": "stream",
     "text": [
      "<class 'pandas.core.frame.DataFrame'>\n",
      "Int64Index: 150 entries, 0 to 49\n",
      "Data columns (total 16 columns):\n",
      " #   Column    Non-Null Count  Dtype  \n",
      "---  ------    --------------  -----  \n",
      " 0   Name      150 non-null    object \n",
      " 1   AGE       150 non-null    object \n",
      " 2   EARNINGS  150 non-null    object \n",
      " 3   CUP       150 non-null    int64  \n",
      " 4   EVNTS     150 non-null    int64  \n",
      " 5   RNDS      150 non-null    int64  \n",
      " 6   CUTS      150 non-null    int64  \n",
      " 7   TOP10     150 non-null    int64  \n",
      " 8   WINS      150 non-null    int64  \n",
      " 9   SCORE     150 non-null    float64\n",
      " 10  DDIS      150 non-null    float64\n",
      " 11  DACC      150 non-null    float64\n",
      " 12  GIR       150 non-null    float64\n",
      " 13  PUTTS     150 non-null    float64\n",
      " 14  SAND      150 non-null    float64\n",
      " 15  BIRDS     150 non-null    float64\n",
      "dtypes: float64(7), int64(6), object(3)\n",
      "memory usage: 19.9+ KB\n"
     ]
    }
   ],
   "source": [
    "middle.info()"
   ]
  },
  {
   "cell_type": "code",
   "execution_count": 120,
   "id": "ffc430ec",
   "metadata": {},
   "outputs": [],
   "source": [
    "url5 = 'https://www.espn.com/golf/stats/player/_/table/general/sort/cutsMade/dir/asc'"
   ]
  },
  {
   "cell_type": "code",
   "execution_count": 121,
   "id": "c41a0d0f",
   "metadata": {},
   "outputs": [],
   "source": [
    "dfs5 = pd.read_html(url5)"
   ]
  },
  {
   "cell_type": "code",
   "execution_count": 122,
   "id": "8a626d16",
   "metadata": {},
   "outputs": [],
   "source": [
    "age5 = dfs5[0]"
   ]
  },
  {
   "cell_type": "code",
   "execution_count": 123,
   "id": "2fda31cf",
   "metadata": {},
   "outputs": [],
   "source": [
    "age5 = age5.drop(['RK'],axis=1)"
   ]
  },
  {
   "cell_type": "code",
   "execution_count": 124,
   "id": "4040d907",
   "metadata": {},
   "outputs": [],
   "source": [
    "stat4 = dfs5[1]"
   ]
  },
  {
   "cell_type": "code",
   "execution_count": 125,
   "id": "16c26fb0",
   "metadata": {},
   "outputs": [],
   "source": [
    "df4 = age5.join(stat4)"
   ]
  },
  {
   "cell_type": "code",
   "execution_count": 126,
   "id": "1dc312c2",
   "metadata": {},
   "outputs": [],
   "source": [
    "allGolfers = pd.concat([df4,middle])"
   ]
  },
  {
   "cell_type": "code",
   "execution_count": 127,
   "id": "959d4474",
   "metadata": {},
   "outputs": [
    {
     "name": "stdout",
     "output_type": "stream",
     "text": [
      "<class 'pandas.core.frame.DataFrame'>\n",
      "Int64Index: 200 entries, 0 to 49\n",
      "Data columns (total 16 columns):\n",
      " #   Column    Non-Null Count  Dtype  \n",
      "---  ------    --------------  -----  \n",
      " 0   Name      200 non-null    object \n",
      " 1   AGE       200 non-null    object \n",
      " 2   EARNINGS  200 non-null    object \n",
      " 3   CUP       200 non-null    int64  \n",
      " 4   EVNTS     200 non-null    int64  \n",
      " 5   RNDS      200 non-null    int64  \n",
      " 6   CUTS      200 non-null    int64  \n",
      " 7   TOP10     200 non-null    int64  \n",
      " 8   WINS      200 non-null    int64  \n",
      " 9   SCORE     200 non-null    float64\n",
      " 10  DDIS      200 non-null    float64\n",
      " 11  DACC      200 non-null    float64\n",
      " 12  GIR       200 non-null    float64\n",
      " 13  PUTTS     200 non-null    float64\n",
      " 14  SAND      200 non-null    float64\n",
      " 15  BIRDS     200 non-null    float64\n",
      "dtypes: float64(7), int64(6), object(3)\n",
      "memory usage: 26.6+ KB\n"
     ]
    }
   ],
   "source": [
    "allGolfers.info()"
   ]
  },
  {
   "cell_type": "code",
   "execution_count": 128,
   "id": "de75f663",
   "metadata": {},
   "outputs": [
    {
     "name": "stdout",
     "output_type": "stream",
     "text": [
      "<class 'pandas.core.frame.DataFrame'>\n",
      "RangeIndex: 200 entries, 0 to 199\n",
      "Data columns (total 2 columns):\n",
      " #   Column  Non-Null Count  Dtype \n",
      "---  ------  --------------  ----- \n",
      " 0   RK      200 non-null    int64 \n",
      " 1   Name    200 non-null    object\n",
      "dtypes: int64(1), object(1)\n",
      "memory usage: 3.2+ KB\n"
     ]
    }
   ],
   "source": [
    "rank.info()"
   ]
  },
  {
   "cell_type": "code",
   "execution_count": 129,
   "id": "71b1966c",
   "metadata": {},
   "outputs": [],
   "source": [
    "use = rank.merge(allGolfers,on='Name', how='right')"
   ]
  },
  {
   "cell_type": "code",
   "execution_count": 130,
   "id": "b255d0ee",
   "metadata": {},
   "outputs": [
    {
     "ename": "KeyError",
     "evalue": "\"['RK_y'] not found in axis\"",
     "output_type": "error",
     "traceback": [
      "\u001b[1;31m---------------------------------------------------------------------------\u001b[0m",
      "\u001b[1;31mKeyError\u001b[0m                                  Traceback (most recent call last)",
      "\u001b[1;32m~\\AppData\\Local\\Temp\\ipykernel_3108\\882572680.py\u001b[0m in \u001b[0;36m<module>\u001b[1;34m\u001b[0m\n\u001b[1;32m----> 1\u001b[1;33m \u001b[0muse\u001b[0m \u001b[1;33m=\u001b[0m \u001b[0muse\u001b[0m\u001b[1;33m.\u001b[0m\u001b[0mdrop\u001b[0m\u001b[1;33m(\u001b[0m\u001b[1;33m[\u001b[0m\u001b[1;34m'RK_y'\u001b[0m\u001b[1;33m]\u001b[0m\u001b[1;33m,\u001b[0m\u001b[0maxis\u001b[0m\u001b[1;33m=\u001b[0m\u001b[1;36m1\u001b[0m\u001b[1;33m)\u001b[0m\u001b[1;33m\u001b[0m\u001b[1;33m\u001b[0m\u001b[0m\n\u001b[0m",
      "\u001b[1;32m~\\anaconda3\\lib\\site-packages\\pandas\\util\\_decorators.py\u001b[0m in \u001b[0;36mwrapper\u001b[1;34m(*args, **kwargs)\u001b[0m\n\u001b[0;32m    309\u001b[0m                     \u001b[0mstacklevel\u001b[0m\u001b[1;33m=\u001b[0m\u001b[0mstacklevel\u001b[0m\u001b[1;33m,\u001b[0m\u001b[1;33m\u001b[0m\u001b[1;33m\u001b[0m\u001b[0m\n\u001b[0;32m    310\u001b[0m                 )\n\u001b[1;32m--> 311\u001b[1;33m             \u001b[1;32mreturn\u001b[0m \u001b[0mfunc\u001b[0m\u001b[1;33m(\u001b[0m\u001b[1;33m*\u001b[0m\u001b[0margs\u001b[0m\u001b[1;33m,\u001b[0m \u001b[1;33m**\u001b[0m\u001b[0mkwargs\u001b[0m\u001b[1;33m)\u001b[0m\u001b[1;33m\u001b[0m\u001b[1;33m\u001b[0m\u001b[0m\n\u001b[0m\u001b[0;32m    312\u001b[0m \u001b[1;33m\u001b[0m\u001b[0m\n\u001b[0;32m    313\u001b[0m         \u001b[1;32mreturn\u001b[0m \u001b[0mwrapper\u001b[0m\u001b[1;33m\u001b[0m\u001b[1;33m\u001b[0m\u001b[0m\n",
      "\u001b[1;32m~\\anaconda3\\lib\\site-packages\\pandas\\core\\frame.py\u001b[0m in \u001b[0;36mdrop\u001b[1;34m(self, labels, axis, index, columns, level, inplace, errors)\u001b[0m\n\u001b[0;32m   4955\u001b[0m                 \u001b[0mweight\u001b[0m  \u001b[1;36m1.0\u001b[0m     \u001b[1;36m0.8\u001b[0m\u001b[1;33m\u001b[0m\u001b[1;33m\u001b[0m\u001b[0m\n\u001b[0;32m   4956\u001b[0m         \"\"\"\n\u001b[1;32m-> 4957\u001b[1;33m         return super().drop(\n\u001b[0m\u001b[0;32m   4958\u001b[0m             \u001b[0mlabels\u001b[0m\u001b[1;33m=\u001b[0m\u001b[0mlabels\u001b[0m\u001b[1;33m,\u001b[0m\u001b[1;33m\u001b[0m\u001b[1;33m\u001b[0m\u001b[0m\n\u001b[0;32m   4959\u001b[0m             \u001b[0maxis\u001b[0m\u001b[1;33m=\u001b[0m\u001b[0maxis\u001b[0m\u001b[1;33m,\u001b[0m\u001b[1;33m\u001b[0m\u001b[1;33m\u001b[0m\u001b[0m\n",
      "\u001b[1;32m~\\anaconda3\\lib\\site-packages\\pandas\\core\\generic.py\u001b[0m in \u001b[0;36mdrop\u001b[1;34m(self, labels, axis, index, columns, level, inplace, errors)\u001b[0m\n\u001b[0;32m   4265\u001b[0m         \u001b[1;32mfor\u001b[0m \u001b[0maxis\u001b[0m\u001b[1;33m,\u001b[0m \u001b[0mlabels\u001b[0m \u001b[1;32min\u001b[0m \u001b[0maxes\u001b[0m\u001b[1;33m.\u001b[0m\u001b[0mitems\u001b[0m\u001b[1;33m(\u001b[0m\u001b[1;33m)\u001b[0m\u001b[1;33m:\u001b[0m\u001b[1;33m\u001b[0m\u001b[1;33m\u001b[0m\u001b[0m\n\u001b[0;32m   4266\u001b[0m             \u001b[1;32mif\u001b[0m \u001b[0mlabels\u001b[0m \u001b[1;32mis\u001b[0m \u001b[1;32mnot\u001b[0m \u001b[1;32mNone\u001b[0m\u001b[1;33m:\u001b[0m\u001b[1;33m\u001b[0m\u001b[1;33m\u001b[0m\u001b[0m\n\u001b[1;32m-> 4267\u001b[1;33m                 \u001b[0mobj\u001b[0m \u001b[1;33m=\u001b[0m \u001b[0mobj\u001b[0m\u001b[1;33m.\u001b[0m\u001b[0m_drop_axis\u001b[0m\u001b[1;33m(\u001b[0m\u001b[0mlabels\u001b[0m\u001b[1;33m,\u001b[0m \u001b[0maxis\u001b[0m\u001b[1;33m,\u001b[0m \u001b[0mlevel\u001b[0m\u001b[1;33m=\u001b[0m\u001b[0mlevel\u001b[0m\u001b[1;33m,\u001b[0m \u001b[0merrors\u001b[0m\u001b[1;33m=\u001b[0m\u001b[0merrors\u001b[0m\u001b[1;33m)\u001b[0m\u001b[1;33m\u001b[0m\u001b[1;33m\u001b[0m\u001b[0m\n\u001b[0m\u001b[0;32m   4268\u001b[0m \u001b[1;33m\u001b[0m\u001b[0m\n\u001b[0;32m   4269\u001b[0m         \u001b[1;32mif\u001b[0m \u001b[0minplace\u001b[0m\u001b[1;33m:\u001b[0m\u001b[1;33m\u001b[0m\u001b[1;33m\u001b[0m\u001b[0m\n",
      "\u001b[1;32m~\\anaconda3\\lib\\site-packages\\pandas\\core\\generic.py\u001b[0m in \u001b[0;36m_drop_axis\u001b[1;34m(self, labels, axis, level, errors, consolidate, only_slice)\u001b[0m\n\u001b[0;32m   4309\u001b[0m                 \u001b[0mnew_axis\u001b[0m \u001b[1;33m=\u001b[0m \u001b[0maxis\u001b[0m\u001b[1;33m.\u001b[0m\u001b[0mdrop\u001b[0m\u001b[1;33m(\u001b[0m\u001b[0mlabels\u001b[0m\u001b[1;33m,\u001b[0m \u001b[0mlevel\u001b[0m\u001b[1;33m=\u001b[0m\u001b[0mlevel\u001b[0m\u001b[1;33m,\u001b[0m \u001b[0merrors\u001b[0m\u001b[1;33m=\u001b[0m\u001b[0merrors\u001b[0m\u001b[1;33m)\u001b[0m\u001b[1;33m\u001b[0m\u001b[1;33m\u001b[0m\u001b[0m\n\u001b[0;32m   4310\u001b[0m             \u001b[1;32melse\u001b[0m\u001b[1;33m:\u001b[0m\u001b[1;33m\u001b[0m\u001b[1;33m\u001b[0m\u001b[0m\n\u001b[1;32m-> 4311\u001b[1;33m                 \u001b[0mnew_axis\u001b[0m \u001b[1;33m=\u001b[0m \u001b[0maxis\u001b[0m\u001b[1;33m.\u001b[0m\u001b[0mdrop\u001b[0m\u001b[1;33m(\u001b[0m\u001b[0mlabels\u001b[0m\u001b[1;33m,\u001b[0m \u001b[0merrors\u001b[0m\u001b[1;33m=\u001b[0m\u001b[0merrors\u001b[0m\u001b[1;33m)\u001b[0m\u001b[1;33m\u001b[0m\u001b[1;33m\u001b[0m\u001b[0m\n\u001b[0m\u001b[0;32m   4312\u001b[0m             \u001b[0mindexer\u001b[0m \u001b[1;33m=\u001b[0m \u001b[0maxis\u001b[0m\u001b[1;33m.\u001b[0m\u001b[0mget_indexer\u001b[0m\u001b[1;33m(\u001b[0m\u001b[0mnew_axis\u001b[0m\u001b[1;33m)\u001b[0m\u001b[1;33m\u001b[0m\u001b[1;33m\u001b[0m\u001b[0m\n\u001b[0;32m   4313\u001b[0m \u001b[1;33m\u001b[0m\u001b[0m\n",
      "\u001b[1;32m~\\anaconda3\\lib\\site-packages\\pandas\\core\\indexes\\base.py\u001b[0m in \u001b[0;36mdrop\u001b[1;34m(self, labels, errors)\u001b[0m\n\u001b[0;32m   6659\u001b[0m         \u001b[1;32mif\u001b[0m \u001b[0mmask\u001b[0m\u001b[1;33m.\u001b[0m\u001b[0many\u001b[0m\u001b[1;33m(\u001b[0m\u001b[1;33m)\u001b[0m\u001b[1;33m:\u001b[0m\u001b[1;33m\u001b[0m\u001b[1;33m\u001b[0m\u001b[0m\n\u001b[0;32m   6660\u001b[0m             \u001b[1;32mif\u001b[0m \u001b[0merrors\u001b[0m \u001b[1;33m!=\u001b[0m \u001b[1;34m\"ignore\"\u001b[0m\u001b[1;33m:\u001b[0m\u001b[1;33m\u001b[0m\u001b[1;33m\u001b[0m\u001b[0m\n\u001b[1;32m-> 6661\u001b[1;33m                 \u001b[1;32mraise\u001b[0m \u001b[0mKeyError\u001b[0m\u001b[1;33m(\u001b[0m\u001b[1;34mf\"{list(labels[mask])} not found in axis\"\u001b[0m\u001b[1;33m)\u001b[0m\u001b[1;33m\u001b[0m\u001b[1;33m\u001b[0m\u001b[0m\n\u001b[0m\u001b[0;32m   6662\u001b[0m             \u001b[0mindexer\u001b[0m \u001b[1;33m=\u001b[0m \u001b[0mindexer\u001b[0m\u001b[1;33m[\u001b[0m\u001b[1;33m~\u001b[0m\u001b[0mmask\u001b[0m\u001b[1;33m]\u001b[0m\u001b[1;33m\u001b[0m\u001b[1;33m\u001b[0m\u001b[0m\n\u001b[0;32m   6663\u001b[0m         \u001b[1;32mreturn\u001b[0m \u001b[0mself\u001b[0m\u001b[1;33m.\u001b[0m\u001b[0mdelete\u001b[0m\u001b[1;33m(\u001b[0m\u001b[0mindexer\u001b[0m\u001b[1;33m)\u001b[0m\u001b[1;33m\u001b[0m\u001b[1;33m\u001b[0m\u001b[0m\n",
      "\u001b[1;31mKeyError\u001b[0m: \"['RK_y'] not found in axis\""
     ]
    }
   ],
   "source": [
    "use = use.drop(['RK_y'],axis=1)"
   ]
  },
  {
   "cell_type": "code",
   "execution_count": 131,
   "id": "0248686b",
   "metadata": {},
   "outputs": [
    {
     "data": {
      "text/html": [
       "<div>\n",
       "<style scoped>\n",
       "    .dataframe tbody tr th:only-of-type {\n",
       "        vertical-align: middle;\n",
       "    }\n",
       "\n",
       "    .dataframe tbody tr th {\n",
       "        vertical-align: top;\n",
       "    }\n",
       "\n",
       "    .dataframe thead th {\n",
       "        text-align: right;\n",
       "    }\n",
       "</style>\n",
       "<table border=\"1\" class=\"dataframe\">\n",
       "  <thead>\n",
       "    <tr style=\"text-align: right;\">\n",
       "      <th></th>\n",
       "      <th>RK</th>\n",
       "      <th>Name</th>\n",
       "      <th>AGE</th>\n",
       "      <th>EARNINGS</th>\n",
       "      <th>CUP</th>\n",
       "      <th>EVNTS</th>\n",
       "      <th>RNDS</th>\n",
       "      <th>CUTS</th>\n",
       "      <th>TOP10</th>\n",
       "      <th>WINS</th>\n",
       "      <th>SCORE</th>\n",
       "      <th>DDIS</th>\n",
       "      <th>DACC</th>\n",
       "      <th>GIR</th>\n",
       "      <th>PUTTS</th>\n",
       "      <th>SAND</th>\n",
       "      <th>BIRDS</th>\n",
       "    </tr>\n",
       "  </thead>\n",
       "  <tbody>\n",
       "    <tr>\n",
       "      <th>0</th>\n",
       "      <td>NaN</td>\n",
       "      <td>Brian Gay</td>\n",
       "      <td>51</td>\n",
       "      <td>$134,875</td>\n",
       "      <td>60</td>\n",
       "      <td>5</td>\n",
       "      <td>0</td>\n",
       "      <td>1</td>\n",
       "      <td>0</td>\n",
       "      <td>0</td>\n",
       "      <td>0.0</td>\n",
       "      <td>0.0</td>\n",
       "      <td>0.0</td>\n",
       "      <td>0.0</td>\n",
       "      <td>0.0</td>\n",
       "      <td>0.0</td>\n",
       "      <td>0.0</td>\n",
       "    </tr>\n",
       "    <tr>\n",
       "      <th>1</th>\n",
       "      <td>NaN</td>\n",
       "      <td>Jerry Kelly</td>\n",
       "      <td>56</td>\n",
       "      <td>$58,000</td>\n",
       "      <td>7</td>\n",
       "      <td>2</td>\n",
       "      <td>0</td>\n",
       "      <td>1</td>\n",
       "      <td>0</td>\n",
       "      <td>0</td>\n",
       "      <td>0.0</td>\n",
       "      <td>0.0</td>\n",
       "      <td>0.0</td>\n",
       "      <td>0.0</td>\n",
       "      <td>0.0</td>\n",
       "      <td>0.0</td>\n",
       "      <td>0.0</td>\n",
       "    </tr>\n",
       "    <tr>\n",
       "      <th>2</th>\n",
       "      <td>NaN</td>\n",
       "      <td>D.J. Trahan</td>\n",
       "      <td>42</td>\n",
       "      <td>$12,350</td>\n",
       "      <td>7</td>\n",
       "      <td>3</td>\n",
       "      <td>0</td>\n",
       "      <td>1</td>\n",
       "      <td>0</td>\n",
       "      <td>0</td>\n",
       "      <td>0.0</td>\n",
       "      <td>0.0</td>\n",
       "      <td>0.0</td>\n",
       "      <td>0.0</td>\n",
       "      <td>0.0</td>\n",
       "      <td>0.0</td>\n",
       "      <td>0.0</td>\n",
       "    </tr>\n",
       "    <tr>\n",
       "      <th>3</th>\n",
       "      <td>NaN</td>\n",
       "      <td>Tiger Woods</td>\n",
       "      <td>47</td>\n",
       "      <td>$59,560</td>\n",
       "      <td>11</td>\n",
       "      <td>1</td>\n",
       "      <td>0</td>\n",
       "      <td>1</td>\n",
       "      <td>0</td>\n",
       "      <td>0</td>\n",
       "      <td>0.0</td>\n",
       "      <td>0.0</td>\n",
       "      <td>0.0</td>\n",
       "      <td>0.0</td>\n",
       "      <td>0.0</td>\n",
       "      <td>0.0</td>\n",
       "      <td>0.0</td>\n",
       "    </tr>\n",
       "    <tr>\n",
       "      <th>4</th>\n",
       "      <td>NaN</td>\n",
       "      <td>Erik Compton</td>\n",
       "      <td>43</td>\n",
       "      <td>0</td>\n",
       "      <td>0</td>\n",
       "      <td>0</td>\n",
       "      <td>0</td>\n",
       "      <td>1</td>\n",
       "      <td>0</td>\n",
       "      <td>0</td>\n",
       "      <td>0.0</td>\n",
       "      <td>0.0</td>\n",
       "      <td>0.0</td>\n",
       "      <td>0.0</td>\n",
       "      <td>0.0</td>\n",
       "      <td>0.0</td>\n",
       "      <td>0.0</td>\n",
       "    </tr>\n",
       "  </tbody>\n",
       "</table>\n",
       "</div>"
      ],
      "text/plain": [
       "   RK          Name AGE  EARNINGS  CUP  EVNTS  RNDS  CUTS  TOP10  WINS  SCORE  \\\n",
       "0 NaN     Brian Gay  51  $134,875   60      5     0     1      0     0    0.0   \n",
       "1 NaN   Jerry Kelly  56   $58,000    7      2     0     1      0     0    0.0   \n",
       "2 NaN   D.J. Trahan  42   $12,350    7      3     0     1      0     0    0.0   \n",
       "3 NaN   Tiger Woods  47   $59,560   11      1     0     1      0     0    0.0   \n",
       "4 NaN  Erik Compton  43         0    0      0     0     1      0     0    0.0   \n",
       "\n",
       "   DDIS  DACC  GIR  PUTTS  SAND  BIRDS  \n",
       "0   0.0   0.0  0.0    0.0   0.0    0.0  \n",
       "1   0.0   0.0  0.0    0.0   0.0    0.0  \n",
       "2   0.0   0.0  0.0    0.0   0.0    0.0  \n",
       "3   0.0   0.0  0.0    0.0   0.0    0.0  \n",
       "4   0.0   0.0  0.0    0.0   0.0    0.0  "
      ]
     },
     "execution_count": 131,
     "metadata": {},
     "output_type": "execute_result"
    }
   ],
   "source": [
    "use.head()"
   ]
  },
  {
   "cell_type": "code",
   "execution_count": 132,
   "id": "32082352",
   "metadata": {},
   "outputs": [
    {
     "data": {
      "text/html": [
       "<div>\n",
       "<style scoped>\n",
       "    .dataframe tbody tr th:only-of-type {\n",
       "        vertical-align: middle;\n",
       "    }\n",
       "\n",
       "    .dataframe tbody tr th {\n",
       "        vertical-align: top;\n",
       "    }\n",
       "\n",
       "    .dataframe thead th {\n",
       "        text-align: right;\n",
       "    }\n",
       "</style>\n",
       "<table border=\"1\" class=\"dataframe\">\n",
       "  <thead>\n",
       "    <tr style=\"text-align: right;\">\n",
       "      <th></th>\n",
       "      <th>RK</th>\n",
       "      <th>Name</th>\n",
       "      <th>AGE</th>\n",
       "      <th>EARNINGS</th>\n",
       "      <th>CUP</th>\n",
       "      <th>EVNTS</th>\n",
       "      <th>RNDS</th>\n",
       "      <th>CUTS</th>\n",
       "      <th>TOP10</th>\n",
       "      <th>WINS</th>\n",
       "      <th>SCORE</th>\n",
       "      <th>DDIS</th>\n",
       "      <th>DACC</th>\n",
       "      <th>GIR</th>\n",
       "      <th>PUTTS</th>\n",
       "      <th>SAND</th>\n",
       "      <th>BIRDS</th>\n",
       "    </tr>\n",
       "  </thead>\n",
       "  <tbody>\n",
       "    <tr>\n",
       "      <th>185</th>\n",
       "      <td>124.0</td>\n",
       "      <td>Aaron Rai</td>\n",
       "      <td>28</td>\n",
       "      <td>$997,290</td>\n",
       "      <td>261</td>\n",
       "      <td>15</td>\n",
       "      <td>53</td>\n",
       "      <td>12</td>\n",
       "      <td>1</td>\n",
       "      <td>0</td>\n",
       "      <td>70.2</td>\n",
       "      <td>291.9</td>\n",
       "      <td>68.1</td>\n",
       "      <td>70.3</td>\n",
       "      <td>1.781</td>\n",
       "      <td>34.6</td>\n",
       "      <td>3.774</td>\n",
       "    </tr>\n",
       "    <tr>\n",
       "      <th>182</th>\n",
       "      <td>45.0</td>\n",
       "      <td>Aaron Wise</td>\n",
       "      <td>26</td>\n",
       "      <td>$997,958</td>\n",
       "      <td>283</td>\n",
       "      <td>11</td>\n",
       "      <td>33</td>\n",
       "      <td>7</td>\n",
       "      <td>1</td>\n",
       "      <td>0</td>\n",
       "      <td>69.8</td>\n",
       "      <td>301.4</td>\n",
       "      <td>60.2</td>\n",
       "      <td>63.6</td>\n",
       "      <td>1.690</td>\n",
       "      <td>27.8</td>\n",
       "      <td>4.212</td>\n",
       "    </tr>\n",
       "    <tr>\n",
       "      <th>90</th>\n",
       "      <td>62.0</td>\n",
       "      <td>Adam Hadwin</td>\n",
       "      <td>35</td>\n",
       "      <td>$1,799,445</td>\n",
       "      <td>405</td>\n",
       "      <td>13</td>\n",
       "      <td>44</td>\n",
       "      <td>11</td>\n",
       "      <td>3</td>\n",
       "      <td>0</td>\n",
       "      <td>69.8</td>\n",
       "      <td>293.7</td>\n",
       "      <td>63.9</td>\n",
       "      <td>67.7</td>\n",
       "      <td>1.729</td>\n",
       "      <td>51.5</td>\n",
       "      <td>4.000</td>\n",
       "    </tr>\n",
       "    <tr>\n",
       "      <th>180</th>\n",
       "      <td>89.0</td>\n",
       "      <td>Adam Schenk</td>\n",
       "      <td>31</td>\n",
       "      <td>$1,803,965</td>\n",
       "      <td>584</td>\n",
       "      <td>17</td>\n",
       "      <td>59</td>\n",
       "      <td>13</td>\n",
       "      <td>1</td>\n",
       "      <td>0</td>\n",
       "      <td>70.3</td>\n",
       "      <td>304.4</td>\n",
       "      <td>53.7</td>\n",
       "      <td>66.1</td>\n",
       "      <td>1.806</td>\n",
       "      <td>49.0</td>\n",
       "      <td>3.610</td>\n",
       "    </tr>\n",
       "    <tr>\n",
       "      <th>89</th>\n",
       "      <td>89.0</td>\n",
       "      <td>Adam Schenk</td>\n",
       "      <td>31</td>\n",
       "      <td>$1,803,965</td>\n",
       "      <td>584</td>\n",
       "      <td>17</td>\n",
       "      <td>59</td>\n",
       "      <td>13</td>\n",
       "      <td>1</td>\n",
       "      <td>0</td>\n",
       "      <td>70.3</td>\n",
       "      <td>304.4</td>\n",
       "      <td>53.7</td>\n",
       "      <td>66.1</td>\n",
       "      <td>1.806</td>\n",
       "      <td>49.0</td>\n",
       "      <td>3.610</td>\n",
       "    </tr>\n",
       "    <tr>\n",
       "      <th>...</th>\n",
       "      <td>...</td>\n",
       "      <td>...</td>\n",
       "      <td>...</td>\n",
       "      <td>...</td>\n",
       "      <td>...</td>\n",
       "      <td>...</td>\n",
       "      <td>...</td>\n",
       "      <td>...</td>\n",
       "      <td>...</td>\n",
       "      <td>...</td>\n",
       "      <td>...</td>\n",
       "      <td>...</td>\n",
       "      <td>...</td>\n",
       "      <td>...</td>\n",
       "      <td>...</td>\n",
       "      <td>...</td>\n",
       "      <td>...</td>\n",
       "    </tr>\n",
       "    <tr>\n",
       "      <th>33</th>\n",
       "      <td>NaN</td>\n",
       "      <td>Yeongsu Kim</td>\n",
       "      <td>33</td>\n",
       "      <td>0</td>\n",
       "      <td>0</td>\n",
       "      <td>0</td>\n",
       "      <td>0</td>\n",
       "      <td>1</td>\n",
       "      <td>0</td>\n",
       "      <td>0</td>\n",
       "      <td>0.0</td>\n",
       "      <td>0.0</td>\n",
       "      <td>0.0</td>\n",
       "      <td>0.0</td>\n",
       "      <td>0.000</td>\n",
       "      <td>0.0</td>\n",
       "      <td>0.000</td>\n",
       "    </tr>\n",
       "    <tr>\n",
       "      <th>45</th>\n",
       "      <td>NaN</td>\n",
       "      <td>Yongjun Bae</td>\n",
       "      <td>22</td>\n",
       "      <td>0</td>\n",
       "      <td>0</td>\n",
       "      <td>0</td>\n",
       "      <td>0</td>\n",
       "      <td>1</td>\n",
       "      <td>0</td>\n",
       "      <td>0</td>\n",
       "      <td>0.0</td>\n",
       "      <td>0.0</td>\n",
       "      <td>0.0</td>\n",
       "      <td>0.0</td>\n",
       "      <td>0.000</td>\n",
       "      <td>0.0</td>\n",
       "      <td>0.000</td>\n",
       "    </tr>\n",
       "    <tr>\n",
       "      <th>48</th>\n",
       "      <td>155.0</td>\n",
       "      <td>Yuto Katsuragawa</td>\n",
       "      <td>--</td>\n",
       "      <td>0</td>\n",
       "      <td>0</td>\n",
       "      <td>0</td>\n",
       "      <td>0</td>\n",
       "      <td>1</td>\n",
       "      <td>0</td>\n",
       "      <td>0</td>\n",
       "      <td>0.0</td>\n",
       "      <td>0.0</td>\n",
       "      <td>0.0</td>\n",
       "      <td>0.0</td>\n",
       "      <td>0.000</td>\n",
       "      <td>0.0</td>\n",
       "      <td>0.000</td>\n",
       "    </tr>\n",
       "    <tr>\n",
       "      <th>170</th>\n",
       "      <td>NaN</td>\n",
       "      <td>Zac Blair</td>\n",
       "      <td>32</td>\n",
       "      <td>$415,344</td>\n",
       "      <td>159</td>\n",
       "      <td>12</td>\n",
       "      <td>36</td>\n",
       "      <td>6</td>\n",
       "      <td>1</td>\n",
       "      <td>0</td>\n",
       "      <td>70.4</td>\n",
       "      <td>278.3</td>\n",
       "      <td>66.8</td>\n",
       "      <td>63.4</td>\n",
       "      <td>1.754</td>\n",
       "      <td>58.3</td>\n",
       "      <td>3.750</td>\n",
       "    </tr>\n",
       "    <tr>\n",
       "      <th>24</th>\n",
       "      <td>NaN</td>\n",
       "      <td>Zack Fischer</td>\n",
       "      <td>33</td>\n",
       "      <td>0</td>\n",
       "      <td>0</td>\n",
       "      <td>0</td>\n",
       "      <td>0</td>\n",
       "      <td>1</td>\n",
       "      <td>0</td>\n",
       "      <td>0</td>\n",
       "      <td>0.0</td>\n",
       "      <td>0.0</td>\n",
       "      <td>0.0</td>\n",
       "      <td>0.0</td>\n",
       "      <td>0.000</td>\n",
       "      <td>0.0</td>\n",
       "      <td>0.000</td>\n",
       "    </tr>\n",
       "  </tbody>\n",
       "</table>\n",
       "<p>200 rows × 17 columns</p>\n",
       "</div>"
      ],
      "text/plain": [
       "        RK              Name AGE    EARNINGS  CUP  EVNTS  RNDS  CUTS  TOP10  \\\n",
       "185  124.0         Aaron Rai  28    $997,290  261     15    53    12      1   \n",
       "182   45.0        Aaron Wise  26    $997,958  283     11    33     7      1   \n",
       "90    62.0       Adam Hadwin  35  $1,799,445  405     13    44    11      3   \n",
       "180   89.0       Adam Schenk  31  $1,803,965  584     17    59    13      1   \n",
       "89    89.0       Adam Schenk  31  $1,803,965  584     17    59    13      1   \n",
       "..     ...               ...  ..         ...  ...    ...   ...   ...    ...   \n",
       "33     NaN       Yeongsu Kim  33           0    0      0     0     1      0   \n",
       "45     NaN       Yongjun Bae  22           0    0      0     0     1      0   \n",
       "48   155.0  Yuto Katsuragawa  --           0    0      0     0     1      0   \n",
       "170    NaN         Zac Blair  32    $415,344  159     12    36     6      1   \n",
       "24     NaN      Zack Fischer  33           0    0      0     0     1      0   \n",
       "\n",
       "     WINS  SCORE   DDIS  DACC   GIR  PUTTS  SAND  BIRDS  \n",
       "185     0   70.2  291.9  68.1  70.3  1.781  34.6  3.774  \n",
       "182     0   69.8  301.4  60.2  63.6  1.690  27.8  4.212  \n",
       "90      0   69.8  293.7  63.9  67.7  1.729  51.5  4.000  \n",
       "180     0   70.3  304.4  53.7  66.1  1.806  49.0  3.610  \n",
       "89      0   70.3  304.4  53.7  66.1  1.806  49.0  3.610  \n",
       "..    ...    ...    ...   ...   ...    ...   ...    ...  \n",
       "33      0    0.0    0.0   0.0   0.0  0.000   0.0  0.000  \n",
       "45      0    0.0    0.0   0.0   0.0  0.000   0.0  0.000  \n",
       "48      0    0.0    0.0   0.0   0.0  0.000   0.0  0.000  \n",
       "170     0   70.4  278.3  66.8  63.4  1.754  58.3  3.750  \n",
       "24      0    0.0    0.0   0.0   0.0  0.000   0.0  0.000  \n",
       "\n",
       "[200 rows x 17 columns]"
      ]
     },
     "execution_count": 132,
     "metadata": {},
     "output_type": "execute_result"
    }
   ],
   "source": [
    "use.sort_values(by=['Name'])"
   ]
  },
  {
   "cell_type": "markdown",
   "id": "f1a63368",
   "metadata": {},
   "source": [
    "## EDA"
   ]
  },
  {
   "cell_type": "code",
   "execution_count": null,
   "id": "1138f641",
   "metadata": {},
   "outputs": [],
   "source": [
    "use.info()"
   ]
  },
  {
   "cell_type": "code",
   "execution_count": 46,
   "id": "f1b0918e",
   "metadata": {},
   "outputs": [
    {
     "data": {
      "text/html": [
       "<div>\n",
       "<style scoped>\n",
       "    .dataframe tbody tr th:only-of-type {\n",
       "        vertical-align: middle;\n",
       "    }\n",
       "\n",
       "    .dataframe tbody tr th {\n",
       "        vertical-align: top;\n",
       "    }\n",
       "\n",
       "    .dataframe thead th {\n",
       "        text-align: right;\n",
       "    }\n",
       "</style>\n",
       "<table border=\"1\" class=\"dataframe\">\n",
       "  <thead>\n",
       "    <tr style=\"text-align: right;\">\n",
       "      <th></th>\n",
       "      <th>RK</th>\n",
       "      <th>Name</th>\n",
       "      <th>AGE</th>\n",
       "      <th>EARNINGS</th>\n",
       "      <th>CUP</th>\n",
       "      <th>EVNTS</th>\n",
       "      <th>RNDS</th>\n",
       "      <th>CUTS</th>\n",
       "      <th>TOP10</th>\n",
       "      <th>WINS</th>\n",
       "      <th>SCORE</th>\n",
       "      <th>DDIS</th>\n",
       "      <th>DACC</th>\n",
       "      <th>GIR</th>\n",
       "      <th>PUTTS</th>\n",
       "      <th>SAND</th>\n",
       "      <th>BIRDS</th>\n",
       "    </tr>\n",
       "  </thead>\n",
       "  <tbody>\n",
       "    <tr>\n",
       "      <th>158</th>\n",
       "      <td>23.0</td>\n",
       "      <td>Shane Lowry</td>\n",
       "      <td>35</td>\n",
       "      <td>$1,001,954</td>\n",
       "      <td>227</td>\n",
       "      <td>7</td>\n",
       "      <td>22</td>\n",
       "      <td>6</td>\n",
       "      <td>1</td>\n",
       "      <td>0</td>\n",
       "      <td>70.6</td>\n",
       "      <td>305.2</td>\n",
       "      <td>64.0</td>\n",
       "      <td>65.7</td>\n",
       "      <td>1.762</td>\n",
       "      <td>50.0</td>\n",
       "      <td>3.455</td>\n",
       "    </tr>\n",
       "    <tr>\n",
       "      <th>194</th>\n",
       "      <td>188.0</td>\n",
       "      <td>Garrick Higgo</td>\n",
       "      <td>23</td>\n",
       "      <td>$1,007,449</td>\n",
       "      <td>359</td>\n",
       "      <td>15</td>\n",
       "      <td>46</td>\n",
       "      <td>9</td>\n",
       "      <td>1</td>\n",
       "      <td>0</td>\n",
       "      <td>70.6</td>\n",
       "      <td>301.8</td>\n",
       "      <td>54.2</td>\n",
       "      <td>67.9</td>\n",
       "      <td>1.779</td>\n",
       "      <td>50.7</td>\n",
       "      <td>4.000</td>\n",
       "    </tr>\n",
       "    <tr>\n",
       "      <th>159</th>\n",
       "      <td>175.0</td>\n",
       "      <td>Tyson Alexander</td>\n",
       "      <td>34</td>\n",
       "      <td>$1,098,016</td>\n",
       "      <td>373</td>\n",
       "      <td>15</td>\n",
       "      <td>49</td>\n",
       "      <td>9</td>\n",
       "      <td>1</td>\n",
       "      <td>0</td>\n",
       "      <td>70.9</td>\n",
       "      <td>296.5</td>\n",
       "      <td>53.8</td>\n",
       "      <td>62.8</td>\n",
       "      <td>1.760</td>\n",
       "      <td>52.6</td>\n",
       "      <td>3.694</td>\n",
       "    </tr>\n",
       "    <tr>\n",
       "      <th>169</th>\n",
       "      <td>15.0</td>\n",
       "      <td>Matt Fitzpatrick</td>\n",
       "      <td>28</td>\n",
       "      <td>$1,134,268</td>\n",
       "      <td>243</td>\n",
       "      <td>9</td>\n",
       "      <td>25</td>\n",
       "      <td>5</td>\n",
       "      <td>1</td>\n",
       "      <td>0</td>\n",
       "      <td>70.5</td>\n",
       "      <td>304.0</td>\n",
       "      <td>58.4</td>\n",
       "      <td>64.9</td>\n",
       "      <td>1.753</td>\n",
       "      <td>51.6</td>\n",
       "      <td>3.720</td>\n",
       "    </tr>\n",
       "    <tr>\n",
       "      <th>177</th>\n",
       "      <td>63.0</td>\n",
       "      <td>Davis Riley</td>\n",
       "      <td>26</td>\n",
       "      <td>$1,223,251</td>\n",
       "      <td>312</td>\n",
       "      <td>16</td>\n",
       "      <td>51</td>\n",
       "      <td>12</td>\n",
       "      <td>1</td>\n",
       "      <td>0</td>\n",
       "      <td>70.5</td>\n",
       "      <td>298.5</td>\n",
       "      <td>58.1</td>\n",
       "      <td>68.5</td>\n",
       "      <td>1.769</td>\n",
       "      <td>44.8</td>\n",
       "      <td>3.824</td>\n",
       "    </tr>\n",
       "    <tr>\n",
       "      <th>...</th>\n",
       "      <td>...</td>\n",
       "      <td>...</td>\n",
       "      <td>...</td>\n",
       "      <td>...</td>\n",
       "      <td>...</td>\n",
       "      <td>...</td>\n",
       "      <td>...</td>\n",
       "      <td>...</td>\n",
       "      <td>...</td>\n",
       "      <td>...</td>\n",
       "      <td>...</td>\n",
       "      <td>...</td>\n",
       "      <td>...</td>\n",
       "      <td>...</td>\n",
       "      <td>...</td>\n",
       "      <td>...</td>\n",
       "      <td>...</td>\n",
       "    </tr>\n",
       "    <tr>\n",
       "      <th>14</th>\n",
       "      <td>NaN</td>\n",
       "      <td>Fabrizio Zanotti</td>\n",
       "      <td>39</td>\n",
       "      <td>0</td>\n",
       "      <td>0</td>\n",
       "      <td>0</td>\n",
       "      <td>0</td>\n",
       "      <td>1</td>\n",
       "      <td>0</td>\n",
       "      <td>0</td>\n",
       "      <td>0.0</td>\n",
       "      <td>0.0</td>\n",
       "      <td>0.0</td>\n",
       "      <td>0.0</td>\n",
       "      <td>0.000</td>\n",
       "      <td>0.0</td>\n",
       "      <td>0.000</td>\n",
       "    </tr>\n",
       "    <tr>\n",
       "      <th>175</th>\n",
       "      <td>NaN</td>\n",
       "      <td>Cole Hammer</td>\n",
       "      <td>23</td>\n",
       "      <td>0</td>\n",
       "      <td>0</td>\n",
       "      <td>0</td>\n",
       "      <td>0</td>\n",
       "      <td>5</td>\n",
       "      <td>1</td>\n",
       "      <td>0</td>\n",
       "      <td>0.0</td>\n",
       "      <td>291.0</td>\n",
       "      <td>56.4</td>\n",
       "      <td>61.8</td>\n",
       "      <td>1.745</td>\n",
       "      <td>47.5</td>\n",
       "      <td>0.000</td>\n",
       "    </tr>\n",
       "    <tr>\n",
       "      <th>15</th>\n",
       "      <td>NaN</td>\n",
       "      <td>Ryan Blaum</td>\n",
       "      <td>39</td>\n",
       "      <td>0</td>\n",
       "      <td>0</td>\n",
       "      <td>0</td>\n",
       "      <td>0</td>\n",
       "      <td>1</td>\n",
       "      <td>0</td>\n",
       "      <td>0</td>\n",
       "      <td>0.0</td>\n",
       "      <td>0.0</td>\n",
       "      <td>0.0</td>\n",
       "      <td>0.0</td>\n",
       "      <td>0.000</td>\n",
       "      <td>0.0</td>\n",
       "      <td>0.000</td>\n",
       "    </tr>\n",
       "    <tr>\n",
       "      <th>34</th>\n",
       "      <td>NaN</td>\n",
       "      <td>Paul O'Hara</td>\n",
       "      <td>--</td>\n",
       "      <td>0</td>\n",
       "      <td>0</td>\n",
       "      <td>0</td>\n",
       "      <td>0</td>\n",
       "      <td>1</td>\n",
       "      <td>0</td>\n",
       "      <td>0</td>\n",
       "      <td>0.0</td>\n",
       "      <td>0.0</td>\n",
       "      <td>0.0</td>\n",
       "      <td>0.0</td>\n",
       "      <td>0.000</td>\n",
       "      <td>0.0</td>\n",
       "      <td>0.000</td>\n",
       "    </tr>\n",
       "    <tr>\n",
       "      <th>31</th>\n",
       "      <td>NaN</td>\n",
       "      <td>Jiri Zuska</td>\n",
       "      <td>--</td>\n",
       "      <td>0</td>\n",
       "      <td>0</td>\n",
       "      <td>0</td>\n",
       "      <td>0</td>\n",
       "      <td>1</td>\n",
       "      <td>0</td>\n",
       "      <td>0</td>\n",
       "      <td>0.0</td>\n",
       "      <td>0.0</td>\n",
       "      <td>0.0</td>\n",
       "      <td>0.0</td>\n",
       "      <td>0.000</td>\n",
       "      <td>0.0</td>\n",
       "      <td>0.000</td>\n",
       "    </tr>\n",
       "  </tbody>\n",
       "</table>\n",
       "<p>200 rows × 17 columns</p>\n",
       "</div>"
      ],
      "text/plain": [
       "        RK              Name AGE    EARNINGS  CUP  EVNTS  RNDS  CUTS  TOP10  \\\n",
       "158   23.0       Shane Lowry  35  $1,001,954  227      7    22     6      1   \n",
       "194  188.0     Garrick Higgo  23  $1,007,449  359     15    46     9      1   \n",
       "159  175.0   Tyson Alexander  34  $1,098,016  373     15    49     9      1   \n",
       "169   15.0  Matt Fitzpatrick  28  $1,134,268  243      9    25     5      1   \n",
       "177   63.0       Davis Riley  26  $1,223,251  312     16    51    12      1   \n",
       "..     ...               ...  ..         ...  ...    ...   ...   ...    ...   \n",
       "14     NaN  Fabrizio Zanotti  39           0    0      0     0     1      0   \n",
       "175    NaN       Cole Hammer  23           0    0      0     0     5      1   \n",
       "15     NaN        Ryan Blaum  39           0    0      0     0     1      0   \n",
       "34     NaN       Paul O'Hara  --           0    0      0     0     1      0   \n",
       "31     NaN        Jiri Zuska  --           0    0      0     0     1      0   \n",
       "\n",
       "     WINS  SCORE   DDIS  DACC   GIR  PUTTS  SAND  BIRDS  \n",
       "158     0   70.6  305.2  64.0  65.7  1.762  50.0  3.455  \n",
       "194     0   70.6  301.8  54.2  67.9  1.779  50.7  4.000  \n",
       "159     0   70.9  296.5  53.8  62.8  1.760  52.6  3.694  \n",
       "169     0   70.5  304.0  58.4  64.9  1.753  51.6  3.720  \n",
       "177     0   70.5  298.5  58.1  68.5  1.769  44.8  3.824  \n",
       "..    ...    ...    ...   ...   ...    ...   ...    ...  \n",
       "14      0    0.0    0.0   0.0   0.0  0.000   0.0  0.000  \n",
       "175     0    0.0  291.0  56.4  61.8  1.745  47.5  0.000  \n",
       "15      0    0.0    0.0   0.0   0.0  0.000   0.0  0.000  \n",
       "34      0    0.0    0.0   0.0   0.0  0.000   0.0  0.000  \n",
       "31      0    0.0    0.0   0.0   0.0  0.000   0.0  0.000  \n",
       "\n",
       "[200 rows x 17 columns]"
      ]
     },
     "execution_count": 46,
     "metadata": {},
     "output_type": "execute_result"
    }
   ],
   "source": [
    "use.sort_values(by=['EARNINGS'])"
   ]
  },
  {
   "cell_type": "code",
   "execution_count": 133,
   "id": "e5eb757b",
   "metadata": {},
   "outputs": [],
   "source": [
    "money = '\\W'"
   ]
  },
  {
   "cell_type": "code",
   "execution_count": 134,
   "id": "06450062",
   "metadata": {},
   "outputs": [],
   "source": [
    "#re.sub(money,'',use['EARNINGS'])\n",
    "use['EARNINGS'] = [re.sub(money,'', str(x)) for x in use['EARNINGS']]"
   ]
  },
  {
   "cell_type": "code",
   "execution_count": 135,
   "id": "e1e603e3",
   "metadata": {},
   "outputs": [
    {
     "data": {
      "text/plain": [
       "0       134875\n",
       "1        58000\n",
       "2        12350\n",
       "3        59560\n",
       "4            0\n",
       "        ...   \n",
       "195    1490138\n",
       "196          0\n",
       "197     954820\n",
       "198    1520047\n",
       "199     879458\n",
       "Name: EARNINGS, Length: 200, dtype: int64"
      ]
     },
     "execution_count": 135,
     "metadata": {},
     "output_type": "execute_result"
    }
   ],
   "source": [
    "use['EARNINGS'] =[int(x) for x in use['EARNINGS']]\n",
    "use['EARNINGS']"
   ]
  },
  {
   "cell_type": "code",
   "execution_count": 50,
   "id": "f6ab9e57",
   "metadata": {},
   "outputs": [
    {
     "data": {
      "text/plain": [
       "<matplotlib.collections.PathCollection at 0x1ea5bdf2250>"
      ]
     },
     "execution_count": 50,
     "metadata": {},
     "output_type": "execute_result"
    },
    {
     "data": {
      "image/png": "[encoded data removed]",
      "text/plain": [
       "<Figure size 640x480 with 1 Axes>"
      ]
     },
     "metadata": {},
     "output_type": "display_data"
    }
   ],
   "source": [
    "plt.scatter(use['RK'],use['EARNINGS'])"
   ]
  },
  {
   "cell_type": "code",
   "execution_count": 51,
   "id": "4ad11229",
   "metadata": {},
   "outputs": [
    {
     "data": {
      "text/plain": [
       "<matplotlib.collections.PathCollection at 0x1ea5c042730>"
      ]
     },
     "execution_count": 51,
     "metadata": {},
     "output_type": "execute_result"
    },
    {
     "data": {
      "image/png": "[encoded data removed]",
      "text/plain": [
       "<Figure size 640x480 with 1 Axes>"
      ]
     },
     "metadata": {},
     "output_type": "display_data"
    }
   ],
   "source": [
    "plt.scatter(use['RK'],use['DDIS'])"
   ]
  },
  {
   "cell_type": "code",
   "execution_count": 77,
   "id": "7f01c887",
   "metadata": {},
   "outputs": [
    {
     "data": {
      "image/png": "[encoded data removed]",
      "text/plain": [
       "<Figure size 640x480 with 1 Axes>"
      ]
     },
     "metadata": {},
     "output_type": "display_data"
    }
   ],
   "source": [
    "plt.scatter(use['RK'],use['CUTS']/use['EVNTS'])\n",
    "plt.xlabel('Rank')\n",
    "plt.ylabel('Percentage of Cuts Made')\n",
    "plt.title('Cuts Made')\n",
    "#plt.savefig('Cuts.png')"
   ]
  },
  {
   "cell_type": "code",
   "execution_count": 56,
   "id": "6398d125",
   "metadata": {},
   "outputs": [
    {
     "data": {
      "text/plain": [
       "<matplotlib.collections.PathCollection at 0x1be2a511250>"
      ]
     },
     "execution_count": 56,
     "metadata": {},
     "output_type": "execute_result"
    },
    {
     "data": {
      "image/png": "[encoded data removed]",
      "text/plain": [
       "<Figure size 640x480 with 1 Axes>"
      ]
     },
     "metadata": {},
     "output_type": "display_data"
    }
   ],
   "source": [
    "plt.scatter(use['RK'],use['PUTTS'])"
   ]
  },
  {
   "cell_type": "code",
   "execution_count": 58,
   "id": "74e6a25d",
   "metadata": {},
   "outputs": [
    {
     "data": {
      "text/plain": [
       "<matplotlib.collections.PathCollection at 0x1be2a62a6d0>"
      ]
     },
     "execution_count": 58,
     "metadata": {},
     "output_type": "execute_result"
    },
    {
     "data": {
      "image/png": "[encoded data removed]",
      "text/plain": [
       "<Figure size 640x480 with 1 Axes>"
      ]
     },
     "metadata": {},
     "output_type": "display_data"
    }
   ],
   "source": [
    "plt.scatter(use['RK'],use['BIRDS'])"
   ]
  },
  {
   "cell_type": "code",
   "execution_count": 113,
   "id": "3ac679aa",
   "metadata": {},
   "outputs": [
    {
     "data": {
      "image/png": "[encoded data removed]",
      "text/plain": [
       "<Figure size 1400x800 with 1 Axes>"
      ]
     },
     "metadata": {},
     "output_type": "display_data"
    }
   ],
   "source": [
    "ax = use['WINS'].value_counts().plot(kind='bar',\n",
    "                                    figsize=(14,8),\n",
    "                                    title=\"Number of Wins\",\n",
    "                                    ylabel=\"Number of Golfers\",\n",
    "                                    xlabel=\"Number of Wins\",\n",
    "                                    color = 'red')\n",
    "\n",
    "plt.savefig('wins.png')"
   ]
  },
  {
   "cell_type": "code",
   "execution_count": 52,
   "id": "5b2669dd",
   "metadata": {},
   "outputs": [
    {
     "data": {
      "image/png": "[encoded data removed]",
      "text/plain": [
       "<Figure size 640x480 with 1 Axes>"
      ]
     },
     "metadata": {},
     "output_type": "display_data"
    }
   ],
   "source": [
    "# fig, ax = plt.subplots\n",
    "# ax.plot(use['EVNTS'],use['RK'])\n",
    "# plt.show\n",
    "plt.scatter(use['DDIS'],use['SCORE'])\n",
    "plt.xlim([250,350])\n",
    "plt.ylim([65,75])\n",
    "plt.xlabel('Driving Distance in Yards')\n",
    "plt.ylabel('Average Score')\n",
    "plt.title('Drive Distance to Overall Score')\n",
    "plt.savefig('driveD.png')"
   ]
  },
  {
   "cell_type": "code",
   "execution_count": 53,
   "id": "056fe08a",
   "metadata": {},
   "outputs": [
    {
     "data": {
      "image/png": "[encoded data removed]",
      "text/plain": [
       "<Figure size 640x480 with 1 Axes>"
      ]
     },
     "metadata": {},
     "output_type": "display_data"
    }
   ],
   "source": [
    "plt.scatter(use['PUTTS'],use['SCORE'])\n",
    "plt.xlim([1,2])\n",
    "plt.ylim([65,75])\n",
    "plt.xlabel('Average Putts per Hole')\n",
    "plt.ylabel('Average Score')\n",
    "plt.title('Putts to Overall Score')\n",
    "plt.savefig('putt.png')"
   ]
  },
  {
   "cell_type": "code",
   "execution_count": 137,
   "id": "36663cac",
   "metadata": {},
   "outputs": [],
   "source": [
    "use['AGE'] = [re.sub('--','Nan', str(x)) for x in use['AGE']]"
   ]
  },
  {
   "cell_type": "code",
   "execution_count": 85,
   "id": "2af3c6ab",
   "metadata": {},
   "outputs": [
    {
     "data": {
      "text/plain": [
       "['Nan5Nan1Nan',\n",
       " 'Nan5Nan6Nan',\n",
       " 'Nan4Nan2Nan',\n",
       " 'Nan4Nan7Nan',\n",
       " 'Nan4Nan3Nan',\n",
       " 'Nan5Nan0Nan',\n",
       " 'Nan4Nan3Nan',\n",
       " 'Nan4Nan6Nan',\n",
       " 'Nan4Nan6Nan',\n",
       " 'Nan4Nan6Nan',\n",
       " 'Nan4Nan2Nan',\n",
       " 'Nan3Nan8Nan',\n",
       " 'Nan4Nan2Nan',\n",
       " 'Nan4Nan3Nan',\n",
       " 'Nan3Nan9Nan',\n",
       " 'Nan3Nan9Nan',\n",
       " 'Nan4Nan0Nan',\n",
       " 'Nan3Nan9Nan',\n",
       " 'Nan4Nan2Nan',\n",
       " 'Nan3Nan6Nan',\n",
       " 'Nan2Nan9Nan',\n",
       " 'Nan3Nan2Nan',\n",
       " 'Nan3Nan6Nan',\n",
       " 'Nan3Nan2Nan',\n",
       " 'Nan3Nan3Nan',\n",
       " 'Nan3Nan6Nan',\n",
       " 'Nan',\n",
       " 'Nan3Nan2Nan',\n",
       " 'Nan3Nan2Nan',\n",
       " 'Nan3Nan3Nan',\n",
       " 'Nan3Nan0Nan',\n",
       " 'Nan',\n",
       " 'Nan',\n",
       " 'Nan3Nan3Nan',\n",
       " 'Nan',\n",
       " 'Nan2Nan6Nan',\n",
       " 'Nan2Nan2Nan',\n",
       " 'Nan2Nan6Nan',\n",
       " 'Nan2Nan6Nan',\n",
       " 'Nan',\n",
       " 'Nan3Nan0Nan',\n",
       " 'Nan2Nan8Nan',\n",
       " 'Nan2Nan4Nan',\n",
       " 'Nan3Nan0Nan',\n",
       " 'Nan2Nan8Nan',\n",
       " 'Nan2Nan2Nan',\n",
       " 'Nan',\n",
       " 'Nan',\n",
       " 'Nan',\n",
       " 'Nan2Nan4Nan',\n",
       " 'Nan2Nan6Nan',\n",
       " 'Nan2Nan8Nan',\n",
       " 'Nan3Nan2Nan',\n",
       " 'Nan3Nan0Nan',\n",
       " 'Nan3Nan3Nan',\n",
       " 'Nan2Nan6Nan',\n",
       " 'Nan3Nan1Nan',\n",
       " 'Nan3Nan6Nan',\n",
       " 'Nan3Nan5Nan',\n",
       " 'Nan3Nan1Nan',\n",
       " 'Nan3Nan3Nan',\n",
       " 'Nan2Nan6Nan',\n",
       " 'Nan2Nan5Nan',\n",
       " 'Nan3Nan3Nan',\n",
       " 'Nan2Nan5Nan',\n",
       " 'Nan3Nan4Nan',\n",
       " 'Nan2Nan5Nan',\n",
       " 'Nan2Nan9Nan',\n",
       " 'Nan2Nan5Nan',\n",
       " 'Nan3Nan6Nan',\n",
       " 'Nan3Nan4Nan',\n",
       " 'Nan2Nan0Nan',\n",
       " 'Nan4Nan2Nan',\n",
       " 'Nan3Nan3Nan',\n",
       " 'Nan3Nan7Nan',\n",
       " 'Nan2Nan9Nan',\n",
       " 'Nan3Nan2Nan',\n",
       " 'Nan2Nan9Nan',\n",
       " 'Nan2Nan7Nan',\n",
       " 'Nan2Nan9Nan',\n",
       " 'Nan3Nan6Nan',\n",
       " 'Nan2Nan8Nan',\n",
       " 'Nan3Nan3Nan',\n",
       " 'Nan3Nan4Nan',\n",
       " 'Nan3Nan1Nan',\n",
       " 'Nan2Nan9Nan',\n",
       " 'Nan2Nan9Nan',\n",
       " 'Nan3Nan1Nan',\n",
       " 'Nan3Nan0Nan',\n",
       " 'Nan3Nan1Nan',\n",
       " 'Nan3Nan5Nan',\n",
       " 'Nan3Nan7Nan',\n",
       " 'Nan3Nan0Nan',\n",
       " 'Nan2Nan5Nan',\n",
       " 'Nan3Nan2Nan',\n",
       " 'Nan3Nan5Nan',\n",
       " 'Nan3Nan5Nan',\n",
       " 'Nan2Nan7Nan',\n",
       " 'Nan2Nan9Nan',\n",
       " 'Nan4Nan4Nan',\n",
       " 'Nan3Nan6Nan',\n",
       " 'Nan4Nan6Nan',\n",
       " 'Nan3Nan9Nan',\n",
       " 'Nan4Nan3Nan',\n",
       " 'Nan4Nan2Nan',\n",
       " 'Nan4Nan6Nan',\n",
       " 'Nan4Nan6Nan',\n",
       " 'Nan5Nan0Nan',\n",
       " 'Nan4Nan7Nan',\n",
       " 'Nan2Nan8Nan',\n",
       " 'Nan4Nan2Nan',\n",
       " 'Nan3Nan5Nan',\n",
       " 'Nan3Nan3Nan',\n",
       " 'Nan4Nan7Nan',\n",
       " 'Nan4Nan1Nan',\n",
       " 'Nan4Nan2Nan',\n",
       " 'Nan3Nan2Nan',\n",
       " 'Nan',\n",
       " 'Nan5Nan6Nan',\n",
       " 'Nan3Nan4Nan',\n",
       " 'Nan4Nan0Nan',\n",
       " 'Nan4Nan7Nan',\n",
       " 'Nan3Nan9Nan',\n",
       " 'Nan2Nan9Nan',\n",
       " 'Nan4Nan9Nan',\n",
       " 'Nan5Nan1Nan',\n",
       " 'Nan3Nan5Nan',\n",
       " 'Nan3Nan1Nan',\n",
       " 'Nan3Nan0Nan',\n",
       " 'Nan3Nan5Nan',\n",
       " 'Nan2Nan8Nan',\n",
       " 'Nan2Nan9Nan',\n",
       " 'Nan4Nan5Nan',\n",
       " 'Nan3Nan8Nan',\n",
       " 'Nan3Nan5Nan',\n",
       " 'Nan4Nan4Nan',\n",
       " 'Nan3Nan3Nan',\n",
       " 'Nan4Nan5Nan',\n",
       " 'Nan4Nan3Nan',\n",
       " 'Nan3Nan2Nan',\n",
       " 'Nan3Nan0Nan',\n",
       " 'Nan5Nan1Nan',\n",
       " 'Nan4Nan0Nan',\n",
       " 'Nan3Nan4Nan',\n",
       " 'Nan3Nan3Nan',\n",
       " 'Nan4Nan2Nan',\n",
       " 'Nan4Nan6Nan',\n",
       " 'Nan4Nan5Nan',\n",
       " 'Nan3Nan1Nan',\n",
       " 'Nan3Nan6Nan',\n",
       " 'Nan4Nan2Nan',\n",
       " 'Nan4Nan0Nan',\n",
       " 'Nan4Nan1Nan',\n",
       " 'Nan3Nan7Nan',\n",
       " 'Nan3Nan9Nan',\n",
       " 'Nan4Nan0Nan',\n",
       " 'Nan3Nan7Nan',\n",
       " 'Nan3Nan5Nan',\n",
       " 'Nan3Nan5Nan',\n",
       " 'Nan3Nan4Nan',\n",
       " 'Nan3Nan1Nan',\n",
       " 'Nan3Nan1Nan',\n",
       " 'Nan3Nan3Nan',\n",
       " 'Nan3Nan5Nan',\n",
       " 'Nan3Nan5Nan',\n",
       " 'Nan2Nan8Nan',\n",
       " 'Nan3Nan3Nan',\n",
       " 'Nan3Nan3Nan',\n",
       " 'Nan2Nan9Nan',\n",
       " 'Nan2Nan8Nan',\n",
       " 'Nan3Nan2Nan',\n",
       " 'Nan3Nan3Nan',\n",
       " 'Nan3Nan1Nan',\n",
       " 'Nan2Nan6Nan',\n",
       " 'Nan2Nan8Nan',\n",
       " 'Nan2Nan3Nan',\n",
       " 'Nan2Nan7Nan',\n",
       " 'Nan2Nan6Nan',\n",
       " 'Nan2Nan7Nan',\n",
       " 'Nan3Nan3Nan',\n",
       " 'Nan3Nan1Nan',\n",
       " 'Nan3Nan4Nan',\n",
       " 'Nan2Nan6Nan',\n",
       " 'Nan2Nan9Nan',\n",
       " 'Nan2Nan8Nan',\n",
       " 'Nan2Nan8Nan',\n",
       " 'Nan2Nan7Nan',\n",
       " 'Nan2Nan7Nan',\n",
       " 'Nan',\n",
       " 'Nan',\n",
       " 'Nan2Nan8Nan',\n",
       " 'Nan2Nan6Nan',\n",
       " 'Nan3Nan2Nan',\n",
       " 'Nan2Nan7Nan',\n",
       " 'Nan2Nan3Nan',\n",
       " 'Nan2Nan6Nan',\n",
       " 'Nan',\n",
       " 'Nan2Nan7Nan',\n",
       " 'Nan2Nan6Nan',\n",
       " 'Nan2Nan8Nan']"
      ]
     },
     "execution_count": 85,
     "metadata": {},
     "output_type": "execute_result"
    }
   ],
   "source": []
  },
  {
   "cell_type": "code",
   "execution_count": 76,
   "id": "9b908caf",
   "metadata": {},
   "outputs": [
    {
     "data": {
      "text/plain": [
       "'--'"
      ]
     },
     "execution_count": 76,
     "metadata": {},
     "output_type": "execute_result"
    }
   ],
   "source": [
    "use['AGE'][26]"
   ]
  },
  {
   "cell_type": "code",
   "execution_count": 140,
   "id": "d2db8d38",
   "metadata": {},
   "outputs": [
    {
     "data": {
      "image/png": "[encoded data removed]",
      "text/plain": [
       "<Figure size 1400x800 with 1 Axes>"
      ]
     },
     "metadata": {},
     "output_type": "display_data"
    }
   ],
   "source": [
    "ax = use['AGE'].value_counts().plot(kind='bar',\n",
    "                                    figsize=(14,8),\n",
    "                                    title=\"Players by Age\",\n",
    "                                    ylabel=\"Number of Golfers\",\n",
    "                                    xlabel=\"Age\",\n",
    "                                    color = 'green')\n",
    "plt.savefig('age.png')"
   ]
  }
 ],
 "metadata": {
  "kernelspec": {
   "display_name": "Python 3 (ipykernel)",
   "language": "python",
   "name": "python3"
  },
  "language_info": {
   "codemirror_mode": {
    "name": "ipython",
    "version": 3
   },
   "file_extension": ".py",
   "mimetype": "text/x-python",
   "name": "python",
   "nbconvert_exporter": "python",
   "pygments_lexer": "ipython3",
   "version": "3.9.13"
  }
 },
 "nbformat": 4,
 "nbformat_minor": 5
}
