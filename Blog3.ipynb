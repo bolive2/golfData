{
 "cells": [
  {
   "cell_type": "code",
   "execution_count": 2,
   "id": "e81132c4",
   "metadata": {},
   "outputs": [],
   "source": [
    "from bs4 import BeautifulSoup\n",
    "import requests\n",
    "import re\n",
    "import pandas as pd\n",
    "import numpy as np"
   ]
  },
  {
   "cell_type": "code",
   "execution_count": 3,
   "id": "aeaf3555",
   "metadata": {},
   "outputs": [],
   "source": [
    "url = \"https://www.espn.com/golf/stats/player\""
   ]
  },
  {
   "cell_type": "code",
   "execution_count": 4,
   "id": "1e0f3a23",
   "metadata": {},
   "outputs": [
    {
     "data": {
      "text/plain": [
       "200"
      ]
     },
     "execution_count": 4,
     "metadata": {},
     "output_type": "execute_result"
    }
   ],
   "source": [
    "response = requests.get(url)\n",
    "response.status_code"
   ]
  },
  {
   "cell_type": "code",
   "execution_count": 5,
   "id": "38139594",
   "metadata": {},
   "outputs": [],
   "source": [
    "dfs = pd.read_html(url)"
   ]
  },
  {
   "cell_type": "code",
   "execution_count": 6,
   "id": "aa34e2c2",
   "metadata": {},
   "outputs": [
    {
     "data": {
      "text/plain": [
       "[    RK               Name AGE\n",
       " 0    1  Scottie Scheffler  26\n",
       " 1    2           Jon Rahm  28\n",
       " 2    3           Max Homa  32\n",
       " 3    4      Kurt Kitayama  30\n",
       " 4    5     Tyrrell Hatton  31\n",
       " 5    6     Keegan Bradley  36\n",
       " 6    7       Rory McIlroy  33\n",
       " 7    8           Tom Hoge  33\n",
       " 8    9    Collin Morikawa  26\n",
       " 9   10    Patrick Cantlay  31\n",
       " 10  11     Viktor Hovland  25\n",
       " 11  12         Tony Finau  33\n",
       " 12  13        Nick Taylor  34\n",
       " 13  14          Jason Day  35\n",
       " 14  15    Sahith Theegala  25\n",
       " 15  16      Adam Svensson  29\n",
       " 16  17       Seamus Power  36\n",
       " 17  18            Tom Kim  20\n",
       " 18  19        Justin Rose  42\n",
       " 19  20         Sungjae Im  24\n",
       " 20  21      Rickie Fowler  34\n",
       " 21  22       Taylor Moore  29\n",
       " 22  23         Chris Kirk  37\n",
       " 23  24     Harris English  33\n",
       " 24  25      Jordan Spieth  29\n",
       " 25  26         Si Woo Kim  27\n",
       " 26  27       Brian Harman  36\n",
       " 27  28  Taylor Montgomery  28\n",
       " 28  29     Russell Henley  33\n",
       " 29  30   Mackenzie Hughes  32\n",
       " 30  31      Justin Thomas  29\n",
       " 31  32     Keith Mitchell  31\n",
       " 32  33      Andrew Putnam  34\n",
       " 33  34  Xander Schauffele  29\n",
       " 34  35      Wyndham Clark  29\n",
       " 35  36        Adam Schenk  31\n",
       " 36  37          Sam Burns  26\n",
       " 37  38   Hideki Matsuyama  31\n",
       " 38  39     Denny McCarthy  30\n",
       " 39  40       Brendon Todd  37\n",
       " 40  41        Adam Hadwin  35\n",
       " 41  42      Danny Willett  35\n",
       " 42  43    David Lingmerth  35\n",
       " 43  44     Hayden Buckley  27\n",
       " 44  45       Thomas Detry  30\n",
       " 45  46         Justin Suh  25\n",
       " 46  47        Sepp Straka  29\n",
       " 47  48         Brandon Wu  26\n",
       " 48  49         Ben Taylor  --\n",
       " 49  50     Davis Thompson  23,\n",
       "        EARNINGS   CUP  EVNTS  RNDS  CUTS  TOP10  WINS  SCORE   DDIS  DACC  \\\n",
       " 0   $10,486,495  1630      9    36     9      6     2   68.1  308.7  63.3   \n",
       " 1    $9,934,779  2013      8    29     7      6     3   68.0  314.1  57.6   \n",
       " 2    $7,344,412  1719      9    36     9      5     2   68.8  301.7  62.2   \n",
       " 3    $5,048,388   939     10    32     6      2     1   70.1  306.7  54.4   \n",
       " 4    $4,473,894   613      6    24     6      3     0   69.4  304.7  64.2   \n",
       " 5    $4,263,524  1077     10    34     7      4     1   69.8  298.2  59.5   \n",
       " 6    $3,913,286   810      5    18     4      2     1   69.8  326.6  52.0   \n",
       " 7    $3,731,656   750     14    48    10      4     0   69.0  293.9  63.9   \n",
       " 8    $3,470,734   751      9    32     7      3     0   69.3  292.3  70.1   \n",
       " 9    $3,466,400   691      7    26     6      3     0   68.6  308.2  63.9   \n",
       " 10   $3,345,697   623      9    36     9      4     0   69.1  305.4  63.6   \n",
       " 11   $3,231,192   893      9    34     8      3     1   69.0  301.6  59.2   \n",
       " 12   $3,229,948   680     14    47     9      4     0   69.6  292.7  58.2   \n",
       " 13   $3,218,333   675     12    44    10      5     0   68.9  302.6  62.3   \n",
       " 14   $3,139,390   763     13    50    12      5     0   69.9  300.4  53.2   \n",
       " 15   $3,098,261   800     15    54    12      2     1   69.9  288.7  60.0   \n",
       " 16   $2,892,921   943     12    44    10      3     1   69.5  298.9  58.3   \n",
       " 17   $2,863,005   846     10    38     9      3     1   69.1  295.1  69.7   \n",
       " 18   $2,827,020   775     10    34     7      3     1   69.6  291.8  65.5   \n",
       " 19   $2,821,129   601     12    46    11      4     0   69.2  298.9  64.0   \n",
       " 20   $2,783,138   630     10    38     9      3     0   69.5  305.0  58.7   \n",
       " 21   $2,745,877   847     15    51    10      1     1   70.1  300.8  56.8   \n",
       " 22   $2,708,778   909     12    40     8      3     1   69.6  295.9  60.9   \n",
       " 23   $2,682,653   504     15    49     9      2     0   70.2  294.6  59.2   \n",
       " 24   $2,511,860   483      9    32     7      3     0   70.0  302.7  53.2   \n",
       " 25   $2,315,142   766     11    42    10      2     1   69.6  296.1  66.0   \n",
       " 26   $2,147,778   693     12    41     8      2     0   69.4  293.4  67.9   \n",
       " 27   $2,079,460   700     14    52    12      4     0   69.3  306.0  56.5   \n",
       " 28   $2,076,922   613     10    32     6      1     1   70.2  288.2  72.0   \n",
       " 29   $2,021,799   673     11    36     7      1     1   70.3  297.9  52.4   \n",
       " 30   $1,959,433   377      8    32     8      2     0   70.3  305.5  56.0   \n",
       " 31   $1,907,322   435     12    44    10      3     0   69.4  310.7  65.6   \n",
       " 32   $1,894,018   585     15    53    11      2     0   69.4  282.1  64.0   \n",
       " 33   $1,863,972   441      8    29     7      3     0   69.4  300.0  54.3   \n",
       " 34   $1,810,299   475     14    52    12      3     0   69.8  313.2  52.5   \n",
       " 35   $1,803,965   584     17    59    12      1     0   70.3  304.4  53.7   \n",
       " 36   $1,800,541   403     10    33     7      3     0   70.0  308.7  57.3   \n",
       " 37   $1,797,738   342     11    38     8      2     0   70.0  295.9  58.3   \n",
       " 38   $1,735,498   473     15    54    12      2     0   69.6  295.0  59.2   \n",
       " 39   $1,720,861   516     13    43     8      3     0   69.7  280.2  68.2   \n",
       " 40   $1,685,683   388     12    44    10      3     0   69.8  293.7  63.9   \n",
       " 41   $1,643,146   492     11    37     8      1     0   70.2  291.8  56.8   \n",
       " 42   $1,642,997   404     15    47     8      4     0   70.5  275.0  66.1   \n",
       " 43   $1,629,364   529     13    40     7      2     0   69.8  303.9  65.3   \n",
       " 44   $1,607,775   602     12    43    10      2     0   69.7  307.7  56.9   \n",
       " 45   $1,561,569   350     16    54    12      2     0   70.2  293.8  63.0   \n",
       " 46   $1,529,723   468     11    36     7      2     0   70.4  292.0  63.3   \n",
       " 47   $1,490,138   442     16    55    11      1     0   69.8  291.6  61.9   \n",
       " 48   $1,489,760   500     15    52    10      3     0   70.0  301.8  54.0   \n",
       " 49   $1,442,218   470     12    42     9      2     0   70.5  310.7  57.5   \n",
       " \n",
       "      GIR  PUTTS  SAND  BIRDS  \n",
       " 0   73.8  1.715  36.0  4.694  \n",
       " 1   72.8  1.674  54.3  5.207  \n",
       " 2   68.7  1.690  51.2  4.750  \n",
       " 3   67.4  1.755  61.4  4.031  \n",
       " 4   65.7  1.708  44.7  4.250  \n",
       " 5   67.8  1.723  35.9  4.206  \n",
       " 6   64.8  1.776  52.2  4.000  \n",
       " 7   70.4  1.694  50.0  4.583  \n",
       " 8   71.4  1.754  54.1  4.375  \n",
       " 9   71.8  1.708  41.9  5.154  \n",
       " 10  67.7  1.724  57.9  4.528  \n",
       " 11  70.6  1.697  56.8  4.882  \n",
       " 12  66.2  1.707  51.8  4.213  \n",
       " 13  69.8  1.727  58.6  4.341  \n",
       " 14  67.8  1.707  60.0  4.300  \n",
       " 15  66.6  1.782  53.8  3.685  \n",
       " 16  67.4  1.702  53.1  4.386  \n",
       " 17  70.5  1.737  55.8  4.158  \n",
       " 18  68.0  1.728  66.7  4.059  \n",
       " 19  68.0  1.744  71.4  4.326  \n",
       " 20  69.3  1.709  43.8  4.421  \n",
       " 21  66.0  1.789  49.4  3.627  \n",
       " 22  67.9  1.689  60.0  4.200  \n",
       " 23  64.1  1.756  43.8  3.714  \n",
       " 24  67.0  1.736  61.0  4.125  \n",
       " 25  68.5  1.736  61.5  4.000  \n",
       " 26  69.5  1.756  61.5  3.976  \n",
       " 27  63.6  1.647  53.3  4.500  \n",
       " 28  68.4  1.759  47.1  4.031  \n",
       " 29  64.8  1.752  40.9  3.750  \n",
       " 30  65.1  1.749  62.0  4.313  \n",
       " 31  67.3  1.715  56.4  4.273  \n",
       " 32  68.6  1.754  63.4  3.792  \n",
       " 33  68.0  1.715  57.1  4.103  \n",
       " 34  67.4  1.739  52.2  4.038  \n",
       " 35  66.1  1.806  49.0  3.610  \n",
       " 36  63.5  1.719  51.2  4.242  \n",
       " 37  64.5  1.741  59.6  4.053  \n",
       " 38  66.5  1.737  53.0  3.944  \n",
       " 39  66.1  1.715  60.3  4.163  \n",
       " 40  67.7  1.729  51.5  4.000  \n",
       " 41  63.5  1.738  59.3  3.676  \n",
       " 42  63.6  1.714  56.0  4.043  \n",
       " 43  70.8  1.761  43.3  3.575  \n",
       " 44  65.6  1.732  62.3  4.186  \n",
       " 45  67.2  1.740  44.6  4.056  \n",
       " 46  70.2  1.767  42.9  3.667  \n",
       " 47  67.3  1.751  34.9  3.964  \n",
       " 48  67.2  1.762  55.2  3.827  \n",
       " 49  66.3  1.776  58.9  3.667  ]"
      ]
     },
     "execution_count": 6,
     "metadata": {},
     "output_type": "execute_result"
    }
   ],
   "source": [
    "dfs"
   ]
  },
  {
   "cell_type": "code",
   "execution_count": 7,
   "id": "f48d6f98",
   "metadata": {},
   "outputs": [],
   "source": [
    "age = dfs[0]"
   ]
  },
  {
   "cell_type": "code",
   "execution_count": 8,
   "id": "4d1da765",
   "metadata": {},
   "outputs": [],
   "source": [
    "stats = dfs[1]"
   ]
  },
  {
   "cell_type": "code",
   "execution_count": 9,
   "id": "41b39646",
   "metadata": {},
   "outputs": [],
   "source": [
    "url2 = 'https://www.espn.com/golf/rankings'"
   ]
  },
  {
   "cell_type": "code",
   "execution_count": 10,
   "id": "4ecf92a5",
   "metadata": {},
   "outputs": [],
   "source": [
    "dfs2 = pd.read_html(url2)"
   ]
  },
  {
   "cell_type": "code",
   "execution_count": 11,
   "id": "e6503278",
   "metadata": {},
   "outputs": [],
   "source": [
    "rank = dfs2[0]"
   ]
  },
  {
   "cell_type": "code",
   "execution_count": null,
   "id": "c4c7d6d9",
   "metadata": {},
   "outputs": [],
   "source": [
    "age.info()"
   ]
  },
  {
   "cell_type": "code",
   "execution_count": null,
   "id": "74c96028",
   "metadata": {},
   "outputs": [],
   "source": [
    "stats.info()"
   ]
  },
  {
   "cell_type": "code",
   "execution_count": null,
   "id": "330a46be",
   "metadata": {},
   "outputs": [],
   "source": [
    "rank"
   ]
  },
  {
   "cell_type": "code",
   "execution_count": null,
   "id": "764d66b7",
   "metadata": {},
   "outputs": [],
   "source": [
    "age = age.drop(['RK'],axis=1)"
   ]
  },
  {
   "cell_type": "code",
   "execution_count": 41,
   "id": "6b413c9d",
   "metadata": {},
   "outputs": [],
   "source": [
    "twoofthree = age.join(stats)"
   ]
  },
  {
   "cell_type": "code",
   "execution_count": 42,
   "id": "c61a20b9",
   "metadata": {},
   "outputs": [],
   "source": [
    "rank = rank.rename(columns={'NAME': 'Name'})"
   ]
  },
  {
   "cell_type": "code",
   "execution_count": 43,
   "id": "41746be4",
   "metadata": {},
   "outputs": [],
   "source": [
    "fin = twoofthree.merge(rank)"
   ]
  },
  {
   "cell_type": "code",
   "execution_count": 44,
   "id": "6a097e62",
   "metadata": {},
   "outputs": [
    {
     "name": "stdout",
     "output_type": "stream",
     "text": [
      "<class 'pandas.core.frame.DataFrame'>\n",
      "Int64Index: 3 entries, 0 to 2\n",
      "Data columns (total 17 columns):\n",
      " #   Column    Non-Null Count  Dtype  \n",
      "---  ------    --------------  -----  \n",
      " 0   RK        3 non-null      int64  \n",
      " 1   Name      3 non-null      object \n",
      " 2   AGE       3 non-null      object \n",
      " 3   EARNINGS  3 non-null      object \n",
      " 4   CUP       3 non-null      int64  \n",
      " 5   EVNTS     3 non-null      int64  \n",
      " 6   RNDS      3 non-null      int64  \n",
      " 7   CUTS      3 non-null      int64  \n",
      " 8   TOP10     3 non-null      int64  \n",
      " 9   WINS      3 non-null      int64  \n",
      " 10  SCORE     3 non-null      float64\n",
      " 11  DDIS      3 non-null      float64\n",
      " 12  DACC      3 non-null      float64\n",
      " 13  GIR       3 non-null      float64\n",
      " 14  PUTTS     3 non-null      float64\n",
      " 15  SAND      3 non-null      float64\n",
      " 16  BIRDS     3 non-null      float64\n",
      "dtypes: float64(7), int64(7), object(3)\n",
      "memory usage: 432.0+ bytes\n"
     ]
    }
   ],
   "source": [
    "fin.info()"
   ]
  },
  {
   "cell_type": "code",
   "execution_count": 45,
   "id": "88988c8d",
   "metadata": {},
   "outputs": [],
   "source": [
    "url3 = 'https://www.espn.com/golf/stats/player/_/table/general/sort/amount/dir/asc'"
   ]
  },
  {
   "cell_type": "code",
   "execution_count": 46,
   "id": "23569596",
   "metadata": {},
   "outputs": [],
   "source": [
    "dfs3 = pd.read_html(url3)"
   ]
  },
  {
   "cell_type": "code",
   "execution_count": 47,
   "id": "9eb2a077",
   "metadata": {},
   "outputs": [],
   "source": [
    "age2 = dfs3[0]"
   ]
  },
  {
   "cell_type": "code",
   "execution_count": 48,
   "id": "6d615e71",
   "metadata": {},
   "outputs": [],
   "source": [
    "age2 = age2.drop(['RK'],axis=1)"
   ]
  },
  {
   "cell_type": "code",
   "execution_count": 49,
   "id": "53e7fb75",
   "metadata": {},
   "outputs": [],
   "source": [
    "stat2 = dfs3[1]"
   ]
  },
  {
   "cell_type": "code",
   "execution_count": 50,
   "id": "385e7b60",
   "metadata": {},
   "outputs": [],
   "source": [
    "df2 = age2.join(stat2)"
   ]
  },
  {
   "cell_type": "code",
   "execution_count": 51,
   "id": "a58f9aee",
   "metadata": {},
   "outputs": [],
   "source": [
    "bottomandTop = pd.concat([twoofthree,df2])"
   ]
  },
  {
   "cell_type": "code",
   "execution_count": 52,
   "id": "efcca7c2",
   "metadata": {},
   "outputs": [],
   "source": [
    "url4 = 'https://www.espn.com/golf/stats/player/_/table/general/sort/topTenFinishes/dir/asc'"
   ]
  },
  {
   "cell_type": "code",
   "execution_count": 53,
   "id": "98a28208",
   "metadata": {},
   "outputs": [],
   "source": [
    "dfs4 = pd.read_html(url4)"
   ]
  },
  {
   "cell_type": "code",
   "execution_count": 54,
   "id": "c9fad441",
   "metadata": {},
   "outputs": [],
   "source": [
    "age3 = dfs4[0]"
   ]
  },
  {
   "cell_type": "code",
   "execution_count": 55,
   "id": "bad184b8",
   "metadata": {},
   "outputs": [],
   "source": [
    "age3 = age3.drop(['RK'],axis=1)"
   ]
  },
  {
   "cell_type": "code",
   "execution_count": 56,
   "id": "57569713",
   "metadata": {},
   "outputs": [],
   "source": [
    "stat3 = dfs4[1]"
   ]
  },
  {
   "cell_type": "code",
   "execution_count": 57,
   "id": "8c26b690",
   "metadata": {},
   "outputs": [],
   "source": [
    "df3 = age3.join(stat3)"
   ]
  },
  {
   "cell_type": "code",
   "execution_count": 58,
   "id": "f4ab84de",
   "metadata": {},
   "outputs": [],
   "source": [
    "middle = pd.concat([bottomandTop,df3])"
   ]
  },
  {
   "cell_type": "code",
   "execution_count": 59,
   "id": "5d098443",
   "metadata": {},
   "outputs": [
    {
     "name": "stdout",
     "output_type": "stream",
     "text": [
      "<class 'pandas.core.frame.DataFrame'>\n",
      "Int64Index: 150 entries, 0 to 49\n",
      "Data columns (total 17 columns):\n",
      " #   Column    Non-Null Count  Dtype  \n",
      "---  ------    --------------  -----  \n",
      " 0   RK        50 non-null     float64\n",
      " 1   Name      150 non-null    object \n",
      " 2   AGE       150 non-null    object \n",
      " 3   EARNINGS  150 non-null    object \n",
      " 4   CUP       150 non-null    int64  \n",
      " 5   EVNTS     150 non-null    int64  \n",
      " 6   RNDS      150 non-null    int64  \n",
      " 7   CUTS      150 non-null    int64  \n",
      " 8   TOP10     150 non-null    int64  \n",
      " 9   WINS      150 non-null    int64  \n",
      " 10  SCORE     150 non-null    float64\n",
      " 11  DDIS      150 non-null    float64\n",
      " 12  DACC      150 non-null    float64\n",
      " 13  GIR       150 non-null    float64\n",
      " 14  PUTTS     150 non-null    float64\n",
      " 15  SAND      150 non-null    float64\n",
      " 16  BIRDS     150 non-null    float64\n",
      "dtypes: float64(8), int64(6), object(3)\n",
      "memory usage: 21.1+ KB\n"
     ]
    }
   ],
   "source": [
    "middle.info()"
   ]
  },
  {
   "cell_type": "code",
   "execution_count": 60,
   "id": "ffc430ec",
   "metadata": {},
   "outputs": [],
   "source": [
    "url5 = 'https://www.espn.com/golf/stats/player/_/table/general/sort/cutsMade/dir/asc'"
   ]
  },
  {
   "cell_type": "code",
   "execution_count": 61,
   "id": "c41a0d0f",
   "metadata": {},
   "outputs": [],
   "source": [
    "dfs5 = pd.read_html(url5)"
   ]
  },
  {
   "cell_type": "code",
   "execution_count": 62,
   "id": "8a626d16",
   "metadata": {},
   "outputs": [],
   "source": [
    "age5 = dfs5[0]"
   ]
  },
  {
   "cell_type": "code",
   "execution_count": 63,
   "id": "2fda31cf",
   "metadata": {},
   "outputs": [],
   "source": [
    "age5 = age5.drop(['RK'],axis=1)"
   ]
  },
  {
   "cell_type": "code",
   "execution_count": 64,
   "id": "4040d907",
   "metadata": {},
   "outputs": [],
   "source": [
    "stat4 = dfs5[1]"
   ]
  },
  {
   "cell_type": "code",
   "execution_count": 65,
   "id": "16c26fb0",
   "metadata": {},
   "outputs": [],
   "source": [
    "df4 = age5.join(stat4)"
   ]
  },
  {
   "cell_type": "code",
   "execution_count": 66,
   "id": "1dc312c2",
   "metadata": {},
   "outputs": [],
   "source": [
    "allGolfers = pd.concat([df4,middle])"
   ]
  },
  {
   "cell_type": "code",
   "execution_count": 67,
   "id": "959d4474",
   "metadata": {},
   "outputs": [
    {
     "name": "stdout",
     "output_type": "stream",
     "text": [
      "<class 'pandas.core.frame.DataFrame'>\n",
      "Int64Index: 200 entries, 0 to 49\n",
      "Data columns (total 17 columns):\n",
      " #   Column    Non-Null Count  Dtype  \n",
      "---  ------    --------------  -----  \n",
      " 0   Name      200 non-null    object \n",
      " 1   AGE       200 non-null    object \n",
      " 2   EARNINGS  200 non-null    object \n",
      " 3   CUP       200 non-null    int64  \n",
      " 4   EVNTS     200 non-null    int64  \n",
      " 5   RNDS      200 non-null    int64  \n",
      " 6   CUTS      200 non-null    int64  \n",
      " 7   TOP10     200 non-null    int64  \n",
      " 8   WINS      200 non-null    int64  \n",
      " 9   SCORE     200 non-null    float64\n",
      " 10  DDIS      200 non-null    float64\n",
      " 11  DACC      200 non-null    float64\n",
      " 12  GIR       200 non-null    float64\n",
      " 13  PUTTS     200 non-null    float64\n",
      " 14  SAND      200 non-null    float64\n",
      " 15  BIRDS     200 non-null    float64\n",
      " 16  RK        50 non-null     float64\n",
      "dtypes: float64(8), int64(6), object(3)\n",
      "memory usage: 28.1+ KB\n"
     ]
    }
   ],
   "source": [
    "allGolfers.info()"
   ]
  },
  {
   "cell_type": "code",
   "execution_count": 68,
   "id": "de75f663",
   "metadata": {},
   "outputs": [
    {
     "name": "stdout",
     "output_type": "stream",
     "text": [
      "<class 'pandas.core.frame.DataFrame'>\n",
      "RangeIndex: 200 entries, 0 to 199\n",
      "Data columns (total 2 columns):\n",
      " #   Column  Non-Null Count  Dtype \n",
      "---  ------  --------------  ----- \n",
      " 0   RK      200 non-null    int64 \n",
      " 1   Name    200 non-null    object\n",
      "dtypes: int64(1), object(1)\n",
      "memory usage: 3.2+ KB\n"
     ]
    }
   ],
   "source": [
    "rank.info()"
   ]
  },
  {
   "cell_type": "code",
   "execution_count": 69,
   "id": "71b1966c",
   "metadata": {},
   "outputs": [],
   "source": [
    "use = rank.merge(allGolfers,on='Name', how='right')"
   ]
  },
  {
   "cell_type": "code",
   "execution_count": 74,
   "id": "b255d0ee",
   "metadata": {},
   "outputs": [],
   "source": [
    "use = use.drop(['RK_y'],axis=1)"
   ]
  },
  {
   "cell_type": "code",
   "execution_count": 76,
   "id": "0248686b",
   "metadata": {},
   "outputs": [
    {
     "data": {
      "text/html": [
       "<div>\n",
       "<style scoped>\n",
       "    .dataframe tbody tr th:only-of-type {\n",
       "        vertical-align: middle;\n",
       "    }\n",
       "\n",
       "    .dataframe tbody tr th {\n",
       "        vertical-align: top;\n",
       "    }\n",
       "\n",
       "    .dataframe thead th {\n",
       "        text-align: right;\n",
       "    }\n",
       "</style>\n",
       "<table border=\"1\" class=\"dataframe\">\n",
       "  <thead>\n",
       "    <tr style=\"text-align: right;\">\n",
       "      <th></th>\n",
       "      <th>RK_x</th>\n",
       "      <th>Name</th>\n",
       "      <th>AGE</th>\n",
       "      <th>EARNINGS</th>\n",
       "      <th>CUP</th>\n",
       "      <th>EVNTS</th>\n",
       "      <th>RNDS</th>\n",
       "      <th>CUTS</th>\n",
       "      <th>TOP10</th>\n",
       "      <th>WINS</th>\n",
       "      <th>SCORE</th>\n",
       "      <th>DDIS</th>\n",
       "      <th>DACC</th>\n",
       "      <th>GIR</th>\n",
       "      <th>PUTTS</th>\n",
       "      <th>SAND</th>\n",
       "      <th>BIRDS</th>\n",
       "    </tr>\n",
       "  </thead>\n",
       "  <tbody>\n",
       "    <tr>\n",
       "      <th>0</th>\n",
       "      <td>NaN</td>\n",
       "      <td>Brian Gay</td>\n",
       "      <td>51</td>\n",
       "      <td>$134,875</td>\n",
       "      <td>60</td>\n",
       "      <td>5</td>\n",
       "      <td>0</td>\n",
       "      <td>1</td>\n",
       "      <td>0</td>\n",
       "      <td>0</td>\n",
       "      <td>0.0</td>\n",
       "      <td>0.0</td>\n",
       "      <td>0.0</td>\n",
       "      <td>0.0</td>\n",
       "      <td>0.0</td>\n",
       "      <td>0.0</td>\n",
       "      <td>0.0</td>\n",
       "    </tr>\n",
       "    <tr>\n",
       "      <th>1</th>\n",
       "      <td>NaN</td>\n",
       "      <td>Jerry Kelly</td>\n",
       "      <td>56</td>\n",
       "      <td>$58,000</td>\n",
       "      <td>7</td>\n",
       "      <td>2</td>\n",
       "      <td>0</td>\n",
       "      <td>1</td>\n",
       "      <td>0</td>\n",
       "      <td>0</td>\n",
       "      <td>0.0</td>\n",
       "      <td>0.0</td>\n",
       "      <td>0.0</td>\n",
       "      <td>0.0</td>\n",
       "      <td>0.0</td>\n",
       "      <td>0.0</td>\n",
       "      <td>0.0</td>\n",
       "    </tr>\n",
       "    <tr>\n",
       "      <th>2</th>\n",
       "      <td>NaN</td>\n",
       "      <td>D.J. Trahan</td>\n",
       "      <td>42</td>\n",
       "      <td>$12,350</td>\n",
       "      <td>7</td>\n",
       "      <td>2</td>\n",
       "      <td>0</td>\n",
       "      <td>1</td>\n",
       "      <td>0</td>\n",
       "      <td>0</td>\n",
       "      <td>0.0</td>\n",
       "      <td>0.0</td>\n",
       "      <td>0.0</td>\n",
       "      <td>0.0</td>\n",
       "      <td>0.0</td>\n",
       "      <td>0.0</td>\n",
       "      <td>0.0</td>\n",
       "    </tr>\n",
       "    <tr>\n",
       "      <th>3</th>\n",
       "      <td>NaN</td>\n",
       "      <td>Tiger Woods</td>\n",
       "      <td>47</td>\n",
       "      <td>$59,560</td>\n",
       "      <td>11</td>\n",
       "      <td>1</td>\n",
       "      <td>0</td>\n",
       "      <td>1</td>\n",
       "      <td>0</td>\n",
       "      <td>0</td>\n",
       "      <td>0.0</td>\n",
       "      <td>0.0</td>\n",
       "      <td>0.0</td>\n",
       "      <td>0.0</td>\n",
       "      <td>0.0</td>\n",
       "      <td>0.0</td>\n",
       "      <td>0.0</td>\n",
       "    </tr>\n",
       "    <tr>\n",
       "      <th>4</th>\n",
       "      <td>NaN</td>\n",
       "      <td>Ricky Barnes</td>\n",
       "      <td>42</td>\n",
       "      <td>$19,841</td>\n",
       "      <td>12</td>\n",
       "      <td>3</td>\n",
       "      <td>0</td>\n",
       "      <td>1</td>\n",
       "      <td>0</td>\n",
       "      <td>0</td>\n",
       "      <td>0.0</td>\n",
       "      <td>0.0</td>\n",
       "      <td>0.0</td>\n",
       "      <td>0.0</td>\n",
       "      <td>0.0</td>\n",
       "      <td>0.0</td>\n",
       "      <td>0.0</td>\n",
       "    </tr>\n",
       "  </tbody>\n",
       "</table>\n",
       "</div>"
      ],
      "text/plain": [
       "   RK_x          Name AGE  EARNINGS  CUP  EVNTS  RNDS  CUTS  TOP10  WINS  \\\n",
       "0   NaN     Brian Gay  51  $134,875   60      5     0     1      0     0   \n",
       "1   NaN   Jerry Kelly  56   $58,000    7      2     0     1      0     0   \n",
       "2   NaN   D.J. Trahan  42   $12,350    7      2     0     1      0     0   \n",
       "3   NaN   Tiger Woods  47   $59,560   11      1     0     1      0     0   \n",
       "4   NaN  Ricky Barnes  42   $19,841   12      3     0     1      0     0   \n",
       "\n",
       "   SCORE  DDIS  DACC  GIR  PUTTS  SAND  BIRDS  \n",
       "0    0.0   0.0   0.0  0.0    0.0   0.0    0.0  \n",
       "1    0.0   0.0   0.0  0.0    0.0   0.0    0.0  \n",
       "2    0.0   0.0   0.0  0.0    0.0   0.0    0.0  \n",
       "3    0.0   0.0   0.0  0.0    0.0   0.0    0.0  \n",
       "4    0.0   0.0   0.0  0.0    0.0   0.0    0.0  "
      ]
     },
     "execution_count": 76,
     "metadata": {},
     "output_type": "execute_result"
    }
   ],
   "source": [
    "use.head()"
   ]
  },
  {
   "cell_type": "code",
   "execution_count": 77,
   "id": "32082352",
   "metadata": {},
   "outputs": [
    {
     "data": {
      "text/html": [
       "<div>\n",
       "<style scoped>\n",
       "    .dataframe tbody tr th:only-of-type {\n",
       "        vertical-align: middle;\n",
       "    }\n",
       "\n",
       "    .dataframe tbody tr th {\n",
       "        vertical-align: top;\n",
       "    }\n",
       "\n",
       "    .dataframe thead th {\n",
       "        text-align: right;\n",
       "    }\n",
       "</style>\n",
       "<table border=\"1\" class=\"dataframe\">\n",
       "  <thead>\n",
       "    <tr style=\"text-align: right;\">\n",
       "      <th></th>\n",
       "      <th>RK_x</th>\n",
       "      <th>Name</th>\n",
       "      <th>AGE</th>\n",
       "      <th>EARNINGS</th>\n",
       "      <th>CUP</th>\n",
       "      <th>EVNTS</th>\n",
       "      <th>RNDS</th>\n",
       "      <th>CUTS</th>\n",
       "      <th>TOP10</th>\n",
       "      <th>WINS</th>\n",
       "      <th>SCORE</th>\n",
       "      <th>DDIS</th>\n",
       "      <th>DACC</th>\n",
       "      <th>GIR</th>\n",
       "      <th>PUTTS</th>\n",
       "      <th>SAND</th>\n",
       "      <th>BIRDS</th>\n",
       "    </tr>\n",
       "  </thead>\n",
       "  <tbody>\n",
       "    <tr>\n",
       "      <th>50</th>\n",
       "      <td>1.0</td>\n",
       "      <td>Scottie Scheffler</td>\n",
       "      <td>26</td>\n",
       "      <td>$10,486,495</td>\n",
       "      <td>1630</td>\n",
       "      <td>9</td>\n",
       "      <td>36</td>\n",
       "      <td>9</td>\n",
       "      <td>6</td>\n",
       "      <td>2</td>\n",
       "      <td>68.1</td>\n",
       "      <td>308.7</td>\n",
       "      <td>63.3</td>\n",
       "      <td>73.8</td>\n",
       "      <td>1.715</td>\n",
       "      <td>36.0</td>\n",
       "      <td>4.694</td>\n",
       "    </tr>\n",
       "    <tr>\n",
       "      <th>51</th>\n",
       "      <td>2.0</td>\n",
       "      <td>Jon Rahm</td>\n",
       "      <td>28</td>\n",
       "      <td>$9,934,779</td>\n",
       "      <td>2013</td>\n",
       "      <td>8</td>\n",
       "      <td>29</td>\n",
       "      <td>7</td>\n",
       "      <td>6</td>\n",
       "      <td>3</td>\n",
       "      <td>68.0</td>\n",
       "      <td>314.1</td>\n",
       "      <td>57.6</td>\n",
       "      <td>72.8</td>\n",
       "      <td>1.674</td>\n",
       "      <td>54.3</td>\n",
       "      <td>5.207</td>\n",
       "    </tr>\n",
       "    <tr>\n",
       "      <th>56</th>\n",
       "      <td>3.0</td>\n",
       "      <td>Rory McIlroy</td>\n",
       "      <td>33</td>\n",
       "      <td>$3,913,286</td>\n",
       "      <td>810</td>\n",
       "      <td>5</td>\n",
       "      <td>18</td>\n",
       "      <td>4</td>\n",
       "      <td>2</td>\n",
       "      <td>1</td>\n",
       "      <td>69.8</td>\n",
       "      <td>326.6</td>\n",
       "      <td>52.0</td>\n",
       "      <td>64.8</td>\n",
       "      <td>1.776</td>\n",
       "      <td>52.2</td>\n",
       "      <td>4.000</td>\n",
       "    </tr>\n",
       "    <tr>\n",
       "      <th>59</th>\n",
       "      <td>4.0</td>\n",
       "      <td>Patrick Cantlay</td>\n",
       "      <td>31</td>\n",
       "      <td>$3,466,400</td>\n",
       "      <td>691</td>\n",
       "      <td>7</td>\n",
       "      <td>26</td>\n",
       "      <td>6</td>\n",
       "      <td>3</td>\n",
       "      <td>0</td>\n",
       "      <td>68.6</td>\n",
       "      <td>308.2</td>\n",
       "      <td>63.9</td>\n",
       "      <td>71.8</td>\n",
       "      <td>1.708</td>\n",
       "      <td>41.9</td>\n",
       "      <td>5.154</td>\n",
       "    </tr>\n",
       "    <tr>\n",
       "      <th>52</th>\n",
       "      <td>6.0</td>\n",
       "      <td>Max Homa</td>\n",
       "      <td>32</td>\n",
       "      <td>$7,344,412</td>\n",
       "      <td>1719</td>\n",
       "      <td>9</td>\n",
       "      <td>36</td>\n",
       "      <td>9</td>\n",
       "      <td>5</td>\n",
       "      <td>2</td>\n",
       "      <td>68.8</td>\n",
       "      <td>301.7</td>\n",
       "      <td>62.2</td>\n",
       "      <td>68.7</td>\n",
       "      <td>1.690</td>\n",
       "      <td>51.2</td>\n",
       "      <td>4.750</td>\n",
       "    </tr>\n",
       "    <tr>\n",
       "      <th>...</th>\n",
       "      <td>...</td>\n",
       "      <td>...</td>\n",
       "      <td>...</td>\n",
       "      <td>...</td>\n",
       "      <td>...</td>\n",
       "      <td>...</td>\n",
       "      <td>...</td>\n",
       "      <td>...</td>\n",
       "      <td>...</td>\n",
       "      <td>...</td>\n",
       "      <td>...</td>\n",
       "      <td>...</td>\n",
       "      <td>...</td>\n",
       "      <td>...</td>\n",
       "      <td>...</td>\n",
       "      <td>...</td>\n",
       "      <td>...</td>\n",
       "    </tr>\n",
       "    <tr>\n",
       "      <th>190</th>\n",
       "      <td>NaN</td>\n",
       "      <td>Greyson Sigg</td>\n",
       "      <td>28</td>\n",
       "      <td>$690,526</td>\n",
       "      <td>240</td>\n",
       "      <td>15</td>\n",
       "      <td>53</td>\n",
       "      <td>11</td>\n",
       "      <td>1</td>\n",
       "      <td>0</td>\n",
       "      <td>70.2</td>\n",
       "      <td>291.7</td>\n",
       "      <td>59.8</td>\n",
       "      <td>66.5</td>\n",
       "      <td>1.741</td>\n",
       "      <td>47.9</td>\n",
       "      <td>3.717</td>\n",
       "    </tr>\n",
       "    <tr>\n",
       "      <th>191</th>\n",
       "      <td>NaN</td>\n",
       "      <td>Harrison Endycott</td>\n",
       "      <td>26</td>\n",
       "      <td>$497,186</td>\n",
       "      <td>206</td>\n",
       "      <td>13</td>\n",
       "      <td>39</td>\n",
       "      <td>6</td>\n",
       "      <td>1</td>\n",
       "      <td>0</td>\n",
       "      <td>70.7</td>\n",
       "      <td>290.3</td>\n",
       "      <td>58.4</td>\n",
       "      <td>64.4</td>\n",
       "      <td>1.748</td>\n",
       "      <td>51.3</td>\n",
       "      <td>3.692</td>\n",
       "    </tr>\n",
       "    <tr>\n",
       "      <th>193</th>\n",
       "      <td>NaN</td>\n",
       "      <td>Max McGreevy</td>\n",
       "      <td>27</td>\n",
       "      <td>$234,358</td>\n",
       "      <td>99</td>\n",
       "      <td>16</td>\n",
       "      <td>40</td>\n",
       "      <td>3</td>\n",
       "      <td>1</td>\n",
       "      <td>0</td>\n",
       "      <td>72.5</td>\n",
       "      <td>284.9</td>\n",
       "      <td>54.2</td>\n",
       "      <td>58.9</td>\n",
       "      <td>1.769</td>\n",
       "      <td>57.5</td>\n",
       "      <td>3.200</td>\n",
       "    </tr>\n",
       "    <tr>\n",
       "      <th>196</th>\n",
       "      <td>NaN</td>\n",
       "      <td>John VanDerLaan</td>\n",
       "      <td>--</td>\n",
       "      <td>0</td>\n",
       "      <td>0</td>\n",
       "      <td>0</td>\n",
       "      <td>0</td>\n",
       "      <td>2</td>\n",
       "      <td>1</td>\n",
       "      <td>0</td>\n",
       "      <td>0.0</td>\n",
       "      <td>0.0</td>\n",
       "      <td>0.0</td>\n",
       "      <td>0.0</td>\n",
       "      <td>0.000</td>\n",
       "      <td>0.0</td>\n",
       "      <td>0.000</td>\n",
       "    </tr>\n",
       "    <tr>\n",
       "      <th>199</th>\n",
       "      <td>NaN</td>\n",
       "      <td>Nico Echavarria</td>\n",
       "      <td>28</td>\n",
       "      <td>$879,458</td>\n",
       "      <td>388</td>\n",
       "      <td>13</td>\n",
       "      <td>34</td>\n",
       "      <td>3</td>\n",
       "      <td>1</td>\n",
       "      <td>1</td>\n",
       "      <td>70.9</td>\n",
       "      <td>296.7</td>\n",
       "      <td>57.1</td>\n",
       "      <td>63.9</td>\n",
       "      <td>1.734</td>\n",
       "      <td>44.1</td>\n",
       "      <td>3.853</td>\n",
       "    </tr>\n",
       "  </tbody>\n",
       "</table>\n",
       "<p>200 rows × 17 columns</p>\n",
       "</div>"
      ],
      "text/plain": [
       "     RK_x               Name AGE     EARNINGS   CUP  EVNTS  RNDS  CUTS  TOP10  \\\n",
       "50    1.0  Scottie Scheffler  26  $10,486,495  1630      9    36     9      6   \n",
       "51    2.0           Jon Rahm  28   $9,934,779  2013      8    29     7      6   \n",
       "56    3.0       Rory McIlroy  33   $3,913,286   810      5    18     4      2   \n",
       "59    4.0    Patrick Cantlay  31   $3,466,400   691      7    26     6      3   \n",
       "52    6.0           Max Homa  32   $7,344,412  1719      9    36     9      5   \n",
       "..    ...                ...  ..          ...   ...    ...   ...   ...    ...   \n",
       "190   NaN       Greyson Sigg  28     $690,526   240     15    53    11      1   \n",
       "191   NaN  Harrison Endycott  26     $497,186   206     13    39     6      1   \n",
       "193   NaN       Max McGreevy  27     $234,358    99     16    40     3      1   \n",
       "196   NaN    John VanDerLaan  --            0     0      0     0     2      1   \n",
       "199   NaN    Nico Echavarria  28     $879,458   388     13    34     3      1   \n",
       "\n",
       "     WINS  SCORE   DDIS  DACC   GIR  PUTTS  SAND  BIRDS  \n",
       "50      2   68.1  308.7  63.3  73.8  1.715  36.0  4.694  \n",
       "51      3   68.0  314.1  57.6  72.8  1.674  54.3  5.207  \n",
       "56      1   69.8  326.6  52.0  64.8  1.776  52.2  4.000  \n",
       "59      0   68.6  308.2  63.9  71.8  1.708  41.9  5.154  \n",
       "52      2   68.8  301.7  62.2  68.7  1.690  51.2  4.750  \n",
       "..    ...    ...    ...   ...   ...    ...   ...    ...  \n",
       "190     0   70.2  291.7  59.8  66.5  1.741  47.9  3.717  \n",
       "191     0   70.7  290.3  58.4  64.4  1.748  51.3  3.692  \n",
       "193     0   72.5  284.9  54.2  58.9  1.769  57.5  3.200  \n",
       "196     0    0.0    0.0   0.0   0.0  0.000   0.0  0.000  \n",
       "199     1   70.9  296.7  57.1  63.9  1.734  44.1  3.853  \n",
       "\n",
       "[200 rows x 17 columns]"
      ]
     },
     "execution_count": 77,
     "metadata": {},
     "output_type": "execute_result"
    }
   ],
   "source": [
    "use.sort_values(by=['RK_x'])"
   ]
  }
 ],
 "metadata": {
  "kernelspec": {
   "display_name": "Python 3 (ipykernel)",
   "language": "python",
   "name": "python3"
  },
  "language_info": {
   "codemirror_mode": {
    "name": "ipython",
    "version": 3
   },
   "file_extension": ".py",
   "mimetype": "text/x-python",
   "name": "python",
   "nbconvert_exporter": "python",
   "pygments_lexer": "ipython3",
   "version": "3.9.13"
  }
 },
 "nbformat": 4,
 "nbformat_minor": 5
}
